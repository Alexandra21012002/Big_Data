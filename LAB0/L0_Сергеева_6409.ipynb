{
  "nbformat": 4,
  "nbformat_minor": 0,
  "metadata": {
    "colab": {
      "provenance": [],
      "toc_visible": true
    },
    "kernelspec": {
      "name": "python3",
      "display_name": "Python 3"
    }
  },
  "cells": [
    {
      "cell_type": "markdown",
      "metadata": {
        "id": "82OvPKEiEqjc"
      },
      "source": [
        "# Введение в MapReduce модель на Python\n"
      ]
    },
    {
      "cell_type": "code",
      "metadata": {
        "id": "JQ2cvXLjICmI"
      },
      "source": [
        "from typing import NamedTuple # requires python 3.6+\n",
        "from typing import Iterator"
      ],
      "execution_count": 4,
      "outputs": []
    },
    {
      "cell_type": "code",
      "metadata": {
        "id": "yjPHumVwEyEg"
      },
      "source": [
        "def MAP(_, row:NamedTuple):\n",
        "  if (row.gender == 'female'):\n",
        "    yield (row.age, row)\n",
        "\n",
        "def REDUCE(age:str, rows:Iterator[NamedTuple]):\n",
        "  sum = 0\n",
        "  count = 0\n",
        "  for row in rows:\n",
        "    sum += row.social_contacts\n",
        "    count += 1\n",
        "  if (count > 0):\n",
        "    yield (age, sum/count)\n",
        "  else:\n",
        "    yield (age, 0)"
      ],
      "execution_count": 5,
      "outputs": []
    },
    {
      "cell_type": "markdown",
      "metadata": {
        "id": "vBKMgpG_ilaZ"
      },
      "source": [
        "Модель элемента данных"
      ]
    },
    {
      "cell_type": "code",
      "metadata": {
        "id": "Rv-XIjhTJPx3"
      },
      "source": [
        "class User(NamedTuple):\n",
        "  id: int\n",
        "  age: str\n",
        "  social_contacts: int\n",
        "  gender: str"
      ],
      "execution_count": 6,
      "outputs": []
    },
    {
      "cell_type": "code",
      "metadata": {
        "id": "5KV0Ze2vQgu5"
      },
      "source": [
        "input_collection = [\n",
        "    User(id=0, age=55, gender='male', social_contacts=20),\n",
        "    User(id=1, age=25, gender='female', social_contacts=240),\n",
        "    User(id=2, age=25, gender='female', social_contacts=500),\n",
        "    User(id=3, age=33, gender='female', social_contacts=800)\n",
        "]"
      ],
      "execution_count": 7,
      "outputs": []
    },
    {
      "cell_type": "markdown",
      "metadata": {
        "id": "YFeqzyZxZIFZ"
      },
      "source": [
        "Функция RECORDREADER моделирует чтение элементов с диска или по сети."
      ]
    },
    {
      "cell_type": "code",
      "metadata": {
        "id": "S5HR4E_GQoMJ"
      },
      "source": [
        "def RECORDREADER():\n",
        "  return [(u.id, u) for u in input_collection]"
      ],
      "execution_count": 8,
      "outputs": []
    },
    {
      "cell_type": "code",
      "metadata": {
        "id": "NeEoWla-ROUy",
        "colab": {
          "base_uri": "https://localhost:8080/"
        },
        "outputId": "b47a5d5b-6246-4e91-93bc-d082c455cee6"
      },
      "source": [
        "list(RECORDREADER())"
      ],
      "execution_count": 9,
      "outputs": [
        {
          "output_type": "execute_result",
          "data": {
            "text/plain": [
              "[(0, User(id=0, age=55, social_contacts=20, gender='male')),\n",
              " (1, User(id=1, age=25, social_contacts=240, gender='female')),\n",
              " (2, User(id=2, age=25, social_contacts=500, gender='female')),\n",
              " (3, User(id=3, age=33, social_contacts=800, gender='female'))]"
            ]
          },
          "metadata": {},
          "execution_count": 9
        }
      ]
    },
    {
      "cell_type": "code",
      "metadata": {
        "id": "YB8orgPSZs8M"
      },
      "source": [
        "def flatten(nested_iterable):\n",
        "  for iterable in nested_iterable:\n",
        "    for element in iterable:\n",
        "      yield element"
      ],
      "execution_count": 10,
      "outputs": []
    },
    {
      "cell_type": "code",
      "metadata": {
        "id": "74oyvDLaRmd5",
        "colab": {
          "base_uri": "https://localhost:8080/"
        },
        "outputId": "e7a31f7a-70df-418b-af23-eaa6278421a4"
      },
      "source": [
        "map_output = flatten(map(lambda x: MAP(*x), RECORDREADER()))\n",
        "map_output = list(map_output) # materialize\n",
        "map_output"
      ],
      "execution_count": 11,
      "outputs": [
        {
          "output_type": "execute_result",
          "data": {
            "text/plain": [
              "[(25, User(id=1, age=25, social_contacts=240, gender='female')),\n",
              " (25, User(id=2, age=25, social_contacts=500, gender='female')),\n",
              " (33, User(id=3, age=33, social_contacts=800, gender='female'))]"
            ]
          },
          "metadata": {},
          "execution_count": 11
        }
      ]
    },
    {
      "cell_type": "code",
      "metadata": {
        "id": "8ncYDJ3-VzDn"
      },
      "source": [
        "def groupbykey(iterable):\n",
        "  t = {}\n",
        "  for (k2, v2) in iterable:\n",
        "    t[k2] = t.get(k2, []) + [v2]\n",
        "  return t.items()"
      ],
      "execution_count": 12,
      "outputs": []
    },
    {
      "cell_type": "code",
      "metadata": {
        "id": "cKzY_6COWOA2",
        "colab": {
          "base_uri": "https://localhost:8080/"
        },
        "outputId": "cc2731db-16d7-4af2-c317-add559961151"
      },
      "source": [
        "shuffle_output = groupbykey(map_output)\n",
        "shuffle_output = list(shuffle_output)\n",
        "shuffle_output"
      ],
      "execution_count": 13,
      "outputs": [
        {
          "output_type": "execute_result",
          "data": {
            "text/plain": [
              "[(25,\n",
              "  [User(id=1, age=25, social_contacts=240, gender='female'),\n",
              "   User(id=2, age=25, social_contacts=500, gender='female')]),\n",
              " (33, [User(id=3, age=33, social_contacts=800, gender='female')])]"
            ]
          },
          "metadata": {},
          "execution_count": 13
        }
      ]
    },
    {
      "cell_type": "code",
      "metadata": {
        "id": "NlA7lkDDYL0t",
        "colab": {
          "base_uri": "https://localhost:8080/"
        },
        "outputId": "95622064-6ebd-46b6-96cb-a2ed38a9ce14"
      },
      "source": [
        "reduce_output = flatten(map(lambda x: REDUCE(*x), shuffle_output))\n",
        "reduce_output = list(reduce_output)\n",
        "reduce_output"
      ],
      "execution_count": 14,
      "outputs": [
        {
          "output_type": "execute_result",
          "data": {
            "text/plain": [
              "[(25, 370.0), (33, 800.0)]"
            ]
          },
          "metadata": {},
          "execution_count": 14
        }
      ]
    },
    {
      "cell_type": "markdown",
      "metadata": {
        "id": "xf6qhHEtd6bI"
      },
      "source": [
        "Все действия одним конвейером!"
      ]
    },
    {
      "cell_type": "code",
      "metadata": {
        "id": "dZaQGYxCdpw5",
        "colab": {
          "base_uri": "https://localhost:8080/"
        },
        "outputId": "e3a02c0e-7557-4093-b334-5eed76991633"
      },
      "source": [
        "list(flatten(map(lambda x: REDUCE(*x), groupbykey(flatten(map(lambda x: MAP(*x), RECORDREADER()))))))"
      ],
      "execution_count": 15,
      "outputs": [
        {
          "output_type": "execute_result",
          "data": {
            "text/plain": [
              "[(25, 370.0), (33, 800.0)]"
            ]
          },
          "metadata": {},
          "execution_count": 15
        }
      ]
    },
    {
      "cell_type": "markdown",
      "metadata": {
        "id": "Vq3EWRIpwSiJ"
      },
      "source": [
        "# **MapReduce**\n",
        "Выделим общую для всех пользователей часть системы в отдельную функцию высшего порядка. Это наиболее простая модель MapReduce, без учёта распределённого хранения данных.\n",
        "\n",
        "Пользователь для решения своей задачи реализует RECORDREADER, MAP, REDUCE."
      ]
    },
    {
      "cell_type": "code",
      "metadata": {
        "id": "V1PZeQMwwVjc"
      },
      "source": [
        "def flatten(nested_iterable):\n",
        "  for iterable in nested_iterable:\n",
        "    for element in iterable:\n",
        "      yield element\n",
        "\n",
        "def groupbykey(iterable):\n",
        "  t = {}\n",
        "  for (k2, v2) in iterable:\n",
        "    t[k2] = t.get(k2, []) + [v2]\n",
        "  return t.items()\n",
        "\n",
        "def MapReduce(RECORDREADER, MAP, REDUCE):\n",
        "  return flatten(map(lambda x: REDUCE(*x), groupbykey(flatten(map(lambda x: MAP(*x), RECORDREADER())))))"
      ],
      "execution_count": 16,
      "outputs": []
    },
    {
      "cell_type": "markdown",
      "metadata": {
        "id": "iFIVrimep678"
      },
      "source": [
        "## Спецификация MapReduce\n",
        "\n",
        "\n",
        "\n",
        "```\n",
        "f (k1, v1) -> (k2,v2)*\n",
        "g (k2, v2*) -> (k3,v3)*\n",
        "\n",
        "mapreduce ((k1,v1)*) -> (k3,v3)*\n",
        "groupby ((k2,v2)*) -> (k2,v2*)*\n",
        "flatten (e2**) -> e2*\n",
        "\n",
        "mapreduce .map(f).flatten.groupby(k2).map(g).flatten\n",
        "```\n",
        "\n",
        "\n"
      ]
    },
    {
      "cell_type": "markdown",
      "metadata": {
        "id": "QtTFyqke3KGe"
      },
      "source": [
        "# Примеры"
      ]
    },
    {
      "cell_type": "markdown",
      "metadata": {
        "id": "BNhh5763w5Vn"
      },
      "source": [
        "## SQL"
      ]
    },
    {
      "cell_type": "code",
      "metadata": {
        "id": "QkyurnvGxBGk",
        "colab": {
          "base_uri": "https://localhost:8080/"
        },
        "outputId": "9cec602e-0fbd-4f12-cf29-ce08bd98ff53"
      },
      "source": [
        "from typing import NamedTuple # requires python 3.6+\n",
        "from typing import Iterator\n",
        "\n",
        "class User(NamedTuple):\n",
        "  id: int\n",
        "  age: str\n",
        "  social_contacts: int\n",
        "  gender: str\n",
        "\n",
        "input_collection = [\n",
        "    User(id=0, age=55, gender='male', social_contacts=20),\n",
        "    User(id=1, age=25, gender='female', social_contacts=240),\n",
        "    User(id=2, age=25, gender='female', social_contacts=500),\n",
        "    User(id=3, age=33, gender='female', social_contacts=800)\n",
        "]\n",
        "\n",
        "def MAP(_, row:NamedTuple):\n",
        "  if (row.gender == 'female'):\n",
        "    yield (row.age, row)\n",
        "\n",
        "def REDUCE(age:str, rows:Iterator[NamedTuple]):\n",
        "  sum = 0\n",
        "  count = 0\n",
        "  for row in rows:\n",
        "    sum += row.social_contacts\n",
        "    count += 1\n",
        "  if (count > 0):\n",
        "    yield (age, sum/count)\n",
        "  else:\n",
        "    yield (age, 0)\n",
        "\n",
        "def RECORDREADER():\n",
        "  return [(u.id, u) for u in input_collection]\n",
        "\n",
        "output = MapReduce(RECORDREADER, MAP, REDUCE)\n",
        "output = list(output)\n",
        "output"
      ],
      "execution_count": 17,
      "outputs": [
        {
          "output_type": "execute_result",
          "data": {
            "text/plain": [
              "[(25, 370.0), (33, 800.0)]"
            ]
          },
          "metadata": {},
          "execution_count": 17
        }
      ]
    },
    {
      "cell_type": "markdown",
      "metadata": {
        "id": "kNKYIeerx0nY"
      },
      "source": [
        "## Matrix-Vector multiplication"
      ]
    },
    {
      "cell_type": "code",
      "metadata": {
        "id": "rwcntRcCyi1V",
        "colab": {
          "base_uri": "https://localhost:8080/"
        },
        "outputId": "34b721b5-f1c5-484e-f78d-c299ec91d8e8"
      },
      "source": [
        "from typing import Iterator\n",
        "import numpy as np\n",
        "\n",
        "mat = np.ones((5,4))\n",
        "vec = np.random.rand(4) # in-memory vector in all map tasks\n",
        "\n",
        "def MAP(coordinates:(int, int), value:int):\n",
        "  i, j = coordinates\n",
        "  yield (i, value*vec[j])\n",
        "\n",
        "def REDUCE(i:int, products:Iterator[NamedTuple]):\n",
        "  sum = 0\n",
        "  for p in products:\n",
        "    sum += p\n",
        "  yield (i, sum)\n",
        "\n",
        "def RECORDREADER():\n",
        "  for i in range(mat.shape[0]):\n",
        "    for j in range(mat.shape[1]):\n",
        "      yield ((i, j), mat[i,j])\n",
        "\n",
        "output = MapReduce(RECORDREADER, MAP, REDUCE)\n",
        "output = list(output)\n",
        "output"
      ],
      "execution_count": 18,
      "outputs": [
        {
          "output_type": "execute_result",
          "data": {
            "text/plain": [
              "[(0, 2.6886672518073076),\n",
              " (1, 2.6886672518073076),\n",
              " (2, 2.6886672518073076),\n",
              " (3, 2.6886672518073076),\n",
              " (4, 2.6886672518073076)]"
            ]
          },
          "metadata": {},
          "execution_count": 18
        }
      ]
    },
    {
      "cell_type": "markdown",
      "metadata": {
        "id": "ruZREYdi2o4O"
      },
      "source": [
        "## Inverted index"
      ]
    },
    {
      "cell_type": "code",
      "metadata": {
        "id": "vt9H9Alf3TYv",
        "colab": {
          "base_uri": "https://localhost:8080/"
        },
        "outputId": "41ce8c12-dc20-4748-e2f6-a2b07172adfe"
      },
      "source": [
        "from typing import Iterator\n",
        "\n",
        "d1 = \"it is what it is\"\n",
        "d2 = \"what is it\"\n",
        "d3 = \"it is a banana\"\n",
        "documents = [d1, d2, d3]\n",
        "\n",
        "def RECORDREADER():\n",
        "  for (docid, document) in enumerate(documents):\n",
        "    yield (\"{}\".format(docid), document)\n",
        "\n",
        "def MAP(docId:str, body:str):\n",
        "  for word in set(body.split(' ')):\n",
        "    yield (word, docId)\n",
        "\n",
        "def REDUCE(word:str, docIds:Iterator[str]):\n",
        "  yield (word, sorted(docIds))\n",
        "\n",
        "output = MapReduce(RECORDREADER, MAP, REDUCE)\n",
        "output = list(output)\n",
        "output"
      ],
      "execution_count": 19,
      "outputs": [
        {
          "output_type": "execute_result",
          "data": {
            "text/plain": [
              "[('what', ['0', '1']),\n",
              " ('is', ['0', '1', '2']),\n",
              " ('it', ['0', '1', '2']),\n",
              " ('a', ['2']),\n",
              " ('banana', ['2'])]"
            ]
          },
          "metadata": {},
          "execution_count": 19
        }
      ]
    },
    {
      "cell_type": "markdown",
      "metadata": {
        "id": "R7az-6DA6qr2"
      },
      "source": [
        "## WordCount"
      ]
    },
    {
      "cell_type": "code",
      "metadata": {
        "id": "dN-nbtgG6uYG",
        "colab": {
          "base_uri": "https://localhost:8080/"
        },
        "outputId": "42ed7799-48d3-4eae-efeb-ce9ce9ba3b1f"
      },
      "source": [
        "from typing import Iterator\n",
        "\n",
        "d1 = \"\"\"\n",
        "it is what it is\n",
        "it is what it is\n",
        "it is what it is\"\"\"\n",
        "d2 = \"\"\"\n",
        "what is it\n",
        "what is it\"\"\"\n",
        "d3 = \"\"\"\n",
        "it is a banana\"\"\"\n",
        "documents = [d1, d2, d3]\n",
        "\n",
        "def RECORDREADER():\n",
        "  for (docid, document) in enumerate(documents):\n",
        "    for (lineid, line) in enumerate(document.split('\\n')):\n",
        "      yield (\"{}:{}\".format(docid,lineid), line)\n",
        "\n",
        "def MAP(docId:str, line:str):\n",
        "  for word in line.split(\" \"):\n",
        "    yield (word, 1)\n",
        "\n",
        "def REDUCE(word:str, counts:Iterator[int]):\n",
        "  sum = 0\n",
        "  for c in counts:\n",
        "    sum += c\n",
        "  yield (word, sum)\n",
        "\n",
        "output = MapReduce(RECORDREADER, MAP, REDUCE)\n",
        "output = list(output)\n",
        "output"
      ],
      "execution_count": 20,
      "outputs": [
        {
          "output_type": "execute_result",
          "data": {
            "text/plain": [
              "[('', 3), ('it', 9), ('is', 9), ('what', 5), ('a', 1), ('banana', 1)]"
            ]
          },
          "metadata": {},
          "execution_count": 20
        }
      ]
    },
    {
      "cell_type": "markdown",
      "metadata": {
        "id": "h-jRAcYCAkkk"
      },
      "source": [
        "# MapReduce Distributed\n",
        "\n",
        "Добавляется в модель фабрика RECORDREARER-ов --- INPUTFORMAT, функция распределения промежуточных результатов по партициям PARTITIONER, и функция COMBINER для частичной аггрегации промежуточных результатов до распределения по новым партициям."
      ]
    },
    {
      "cell_type": "code",
      "metadata": {
        "id": "nw-b-xJsApgW"
      },
      "source": [
        "def flatten(nested_iterable):\n",
        "  for iterable in nested_iterable:\n",
        "    for element in iterable:\n",
        "      yield element\n",
        "\n",
        "def groupbykey(iterable):\n",
        "  t = {}\n",
        "  for (k2, v2) in iterable:\n",
        "    t[k2] = t.get(k2, []) + [v2]\n",
        "  return t.items()\n",
        "\n",
        "def groupbykey_distributed(map_partitions, PARTITIONER):\n",
        "  global reducers\n",
        "  partitions = [dict() for _ in range(reducers)]\n",
        "  for map_partition in map_partitions:\n",
        "    for (k2, v2) in map_partition:\n",
        "      p = partitions[PARTITIONER(k2)]\n",
        "      p[k2] = p.get(k2, []) + [v2]\n",
        "  return [(partition_id, sorted(partition.items(), key=lambda x: x[0])) for (partition_id, partition) in enumerate(partitions)]\n",
        "\n",
        "def PARTITIONER(obj):\n",
        "  global reducers\n",
        "  return hash(obj) % reducers\n",
        "\n",
        "def MapReduceDistributed(INPUTFORMAT, MAP, REDUCE, PARTITIONER=PARTITIONER, COMBINER=None):\n",
        "  map_partitions = map(lambda record_reader: flatten(map(lambda k1v1: MAP(*k1v1), record_reader)), INPUTFORMAT())\n",
        "  if COMBINER != None:\n",
        "    map_partitions = map(lambda map_partition: flatten(map(lambda k2v2: COMBINER(*k2v2), groupbykey(map_partition))), map_partitions)\n",
        "  reduce_partitions = groupbykey_distributed(map_partitions, PARTITIONER) # shuffle\n",
        "  reduce_outputs = map(lambda reduce_partition: (reduce_partition[0], flatten(map(lambda reduce_input_group: REDUCE(*reduce_input_group), reduce_partition[1]))), reduce_partitions)\n",
        "\n",
        "  print(\"{} key-value pairs were sent over a network.\".format(sum([len(vs) for (k,vs) in flatten([partition for (partition_id, partition) in reduce_partitions])])))\n",
        "  return reduce_outputs"
      ],
      "execution_count": 21,
      "outputs": []
    },
    {
      "cell_type": "markdown",
      "metadata": {
        "id": "kxirlf3XqZxY"
      },
      "source": [
        "## Спецификация MapReduce Distributed\n",
        "\n",
        "\n",
        "```\n",
        "f (k1, v1) -> (k2,v2)*\n",
        "g (k2, v2*) -> (k3,v3)*\n",
        "\n",
        "e1 (k1, v1)\n",
        "e2 (k2, v2)\n",
        "partition1 (k2, v2)*\n",
        "partition2 (k2, v2*)*\n",
        "\n",
        "flatmap (e1->e2*, e1*) -> partition1*\n",
        "groupby (partition1*) -> partition2*\n",
        "\n",
        "mapreduce ((k1,v1)*) -> (k3,v3)*\n",
        "mapreduce .flatmap(f).groupby(k2).flatmap(g)\n",
        "```\n",
        "\n"
      ]
    },
    {
      "cell_type": "markdown",
      "metadata": {
        "id": "CWYw_CpbbY3C"
      },
      "source": [
        "## WordCount"
      ]
    },
    {
      "cell_type": "code",
      "metadata": {
        "id": "uR_zfGFkMZlp",
        "colab": {
          "base_uri": "https://localhost:8080/"
        },
        "outputId": "d4c9bd8c-a4fa-411f-bd66-7515f7016628"
      },
      "source": [
        "from typing import Iterator\n",
        "import numpy as np\n",
        "\n",
        "d1 = \"\"\"\n",
        "it is what it is\n",
        "it is what it is\n",
        "it is what it is\"\"\"\n",
        "d2 = \"\"\"\n",
        "what is it\n",
        "what is it\"\"\"\n",
        "d3 = \"\"\"\n",
        "it is a banana\"\"\"\n",
        "documents = [d1, d2, d3, d1, d2, d3]\n",
        "\n",
        "maps = 3\n",
        "reducers = 2\n",
        "\n",
        "def INPUTFORMAT():\n",
        "  global maps\n",
        "\n",
        "  def RECORDREADER(split):\n",
        "    for (docid, document) in enumerate(split):\n",
        "      for (lineid, line) in enumerate(document.split('\\n')):\n",
        "        yield (\"{}:{}\".format(docid,lineid), line)\n",
        "\n",
        "  split_size =  int(np.ceil(len(documents)/maps))\n",
        "  for i in range(0, len(documents), split_size):\n",
        "    yield RECORDREADER(documents[i:i+split_size])\n",
        "\n",
        "def MAP(docId:str, line:str):\n",
        "  for word in line.split(\" \"):\n",
        "    yield (word, 1)\n",
        "\n",
        "def REDUCE(word:str, counts:Iterator[int]):\n",
        "  sum = 0\n",
        "  for c in counts:\n",
        "    sum += c\n",
        "  yield (word, sum)\n",
        "\n",
        "# try to set COMBINER=REDUCER and look at the number of values sent over the network\n",
        "partitioned_output = MapReduceDistributed(INPUTFORMAT, MAP, REDUCE, COMBINER=None)\n",
        "partitioned_output = [(partition_id, list(partition)) for (partition_id, partition) in partitioned_output]\n",
        "partitioned_output"
      ],
      "execution_count": 22,
      "outputs": [
        {
          "output_type": "stream",
          "name": "stdout",
          "text": [
            "56 key-value pairs were sent over a network.\n"
          ]
        },
        {
          "output_type": "execute_result",
          "data": {
            "text/plain": [
              "[(0, [('', 6), ('a', 2), ('banana', 2), ('is', 18), ('it', 18)]),\n",
              " (1, [('what', 10)])]"
            ]
          },
          "metadata": {},
          "execution_count": 22
        }
      ]
    },
    {
      "cell_type": "markdown",
      "metadata": {
        "id": "gCJGx8IQ87xS"
      },
      "source": [
        "## TeraSort"
      ]
    },
    {
      "cell_type": "code",
      "metadata": {
        "id": "P2v8v1v_8_YR",
        "colab": {
          "base_uri": "https://localhost:8080/"
        },
        "outputId": "a7783747-4ef6-4f38-f994-8eb9f9116a7a"
      },
      "source": [
        "import numpy as np\n",
        "\n",
        "input_values = np.random.rand(30)\n",
        "maps = 3\n",
        "reducers = 2\n",
        "min_value = 0.0\n",
        "max_value = 1.0\n",
        "\n",
        "def INPUTFORMAT():\n",
        "  global maps\n",
        "\n",
        "  def RECORDREADER(split):\n",
        "    for value in split:\n",
        "        yield (value, None)\n",
        "\n",
        "  split_size =  int(np.ceil(len(input_values)/maps))\n",
        "  for i in range(0, len(input_values), split_size):\n",
        "    yield RECORDREADER(input_values[i:i+split_size])\n",
        "\n",
        "def MAP(value:int, _):\n",
        "  yield (value, None)\n",
        "\n",
        "def PARTITIONER(key):\n",
        "  global reducers\n",
        "  global max_value\n",
        "  global min_value\n",
        "  bucket_size = (max_value-min_value)/reducers\n",
        "  bucket_id = 0\n",
        "  while((key>(bucket_id+1)*bucket_size) and ((bucket_id+1)*bucket_size<max_value)):\n",
        "    bucket_id += 1\n",
        "  return bucket_id\n",
        "\n",
        "def REDUCE(value:int, _):\n",
        "  yield (None,value)\n",
        "\n",
        "partitioned_output = MapReduceDistributed(INPUTFORMAT, MAP, REDUCE, COMBINER=None, PARTITIONER=PARTITIONER)\n",
        "partitioned_output = [(partition_id, list(partition)) for (partition_id, partition) in partitioned_output]\n",
        "partitioned_output"
      ],
      "execution_count": 23,
      "outputs": [
        {
          "output_type": "stream",
          "name": "stdout",
          "text": [
            "30 key-value pairs were sent over a network.\n"
          ]
        },
        {
          "output_type": "execute_result",
          "data": {
            "text/plain": [
              "[(0,\n",
              "  [(None, 0.05574531925889403),\n",
              "   (None, 0.0709116627512777),\n",
              "   (None, 0.1330762135983259),\n",
              "   (None, 0.13735324951888994),\n",
              "   (None, 0.20347719807137687),\n",
              "   (None, 0.22904632819603288),\n",
              "   (None, 0.24925559876249204),\n",
              "   (None, 0.29201850772054894),\n",
              "   (None, 0.34573281919770127),\n",
              "   (None, 0.38384926066232794),\n",
              "   (None, 0.4115925011241267),\n",
              "   (None, 0.414754267930428),\n",
              "   (None, 0.4211751919075759),\n",
              "   (None, 0.427054711202308),\n",
              "   (None, 0.44045518944515827),\n",
              "   (None, 0.47499337605057834)]),\n",
              " (1,\n",
              "  [(None, 0.5437490360823528),\n",
              "   (None, 0.5597266510677373),\n",
              "   (None, 0.6174436510470236),\n",
              "   (None, 0.6246386573388104),\n",
              "   (None, 0.7705985166859597),\n",
              "   (None, 0.7738626876902329),\n",
              "   (None, 0.7763665009170431),\n",
              "   (None, 0.7919254502865267),\n",
              "   (None, 0.8315808266849622),\n",
              "   (None, 0.8590228600009139),\n",
              "   (None, 0.8700368125598068),\n",
              "   (None, 0.9339975659302967),\n",
              "   (None, 0.9919980538699222),\n",
              "   (None, 0.9929117900106771)])]"
            ]
          },
          "metadata": {},
          "execution_count": 23
        }
      ]
    },
    {
      "cell_type": "code",
      "metadata": {
        "id": "MQhoJaVZI93G"
      },
      "source": [],
      "execution_count": 23,
      "outputs": []
    },
    {
      "cell_type": "markdown",
      "metadata": {
        "id": "Iy65YJTH99iT"
      },
      "source": [
        "# Упражнения\n",
        "Упражнения взяты из Rajaraman A., Ullman J. D. Mining of massive datasets. – Cambridge University Press, 2011.\n",
        "\n",
        "\n",
        "Для выполнения заданий переопределите функции RECORDREADER, MAP, REDUCE. Для модели распределённой системы может потребоваться переопределение функций PARTITION и COMBINER."
      ]
    },
    {
      "cell_type": "markdown",
      "metadata": {
        "id": "cfvAeZm3S8S8"
      },
      "source": [
        "### Максимальное значение ряда\n",
        "\n",
        "Разработайте MapReduce алгоритм, который находит максимальное число входного списка чисел."
      ]
    },
    {
      "cell_type": "code",
      "metadata": {
        "id": "3GRA1JR-Tkbg",
        "colab": {
          "base_uri": "https://localhost:8080/"
        },
        "outputId": "b43accd7-0c25-470a-bcce-f967dbd843cf"
      },
      "source": [
        "import random\n",
        "\n",
        "# Функция MAP для нахождения максимального значения в списке чисел\n",
        "def MAP(numList):\n",
        "    return max(numList)\n",
        "\n",
        "# Функция REDUCE для нахождения максимального значения среди всех списков чисел\n",
        "def REDUCE(numList):\n",
        "    return max(numList)\n",
        "\n",
        "# Функция RECORDREADER для генерации случайных чисел в заданном диапазоне\n",
        "def RECORDREADER(count):\n",
        "    return [random.randint(0, 100) for _ in range(count)]\n",
        "\n",
        "# Генерация списка случайных чисел\n",
        "record = RECORDREADER(15)\n",
        "print(record)\n",
        "\n",
        "partCount = 5\n",
        "# Разделение списка на части по 5 элементов\n",
        "final = [record[d:d + partCount] for d in range(0, len(record), partCount)]\n",
        "print(final)\n",
        "\n",
        "# Нахождение максимального значения среди всех частей списка\n",
        "print(REDUCE(list(map(lambda x: MAP(x), final))))"
      ],
      "execution_count": 24,
      "outputs": [
        {
          "output_type": "stream",
          "name": "stdout",
          "text": [
            "[50, 59, 87, 34, 98, 22, 40, 30, 5, 36, 41, 38, 73, 80, 89]\n",
            "[[50, 59, 87, 34, 98], [22, 40, 30, 5, 36], [41, 38, 73, 80, 89]]\n",
            "98\n"
          ]
        }
      ]
    },
    {
      "cell_type": "markdown",
      "metadata": {
        "id": "k86bXnqZTk-U"
      },
      "source": [
        "### Арифметическое среднее\n",
        "\n",
        "Разработайте MapReduce алгоритм, который находит арифметическое среднее.\n",
        "\n",
        "$$\\overline{X} = \\frac{1}{n}\\sum_{i=0}^{n} x_i$$\n"
      ]
    },
    {
      "cell_type": "code",
      "metadata": {
        "id": "MPoY5pkfUNZf",
        "colab": {
          "base_uri": "https://localhost:8080/"
        },
        "outputId": "2e31636b-5ce2-451b-9164-50e86d484c44"
      },
      "source": [
        "from typing import Iterator, NamedTuple\n",
        "\n",
        "# Функция MAP для создания пары (1, num)\n",
        "def MAP(num):\n",
        "    return (1, num)\n",
        "\n",
        "# Функция REDUCE для вычисления среднего значения из итератора NamedTuple\n",
        "def REDUCE(key, nums: Iterator[NamedTuple]):\n",
        "    sum = 0\n",
        "    count = 0\n",
        "    for n in nums:\n",
        "        sum += n\n",
        "        count += 1\n",
        "    yield sum / count\n",
        "\n",
        "# Функция RECORDREADER для генерации списка случайных чисел\n",
        "def RECORDREADER(count):\n",
        "    return [random.randint(0, 100) for i in range(count)]\n",
        "\n",
        "# Применение функции MAP к результату функции RECORDREADER\n",
        "map_output = list(map(lambda x: MAP(x), RECORDREADER(100)))\n",
        "print(map_output)\n",
        "\n",
        "# Группировка по ключу и преобразование в список\n",
        "shuffle_output = groupbykey(map_output)\n",
        "shuffle_output = list(shuffle_output)\n",
        "print(shuffle_output)\n",
        "\n",
        "# Применение функции REDUCE к результату группировки\n",
        "reduce_output = list(flatten(map(lambda x: REDUCE(*x), shuffle_output)))\n",
        "print(reduce_output)\n"
      ],
      "execution_count": 25,
      "outputs": [
        {
          "output_type": "stream",
          "name": "stdout",
          "text": [
            "[(1, 41), (1, 58), (1, 55), (1, 74), (1, 66), (1, 74), (1, 40), (1, 64), (1, 38), (1, 66), (1, 82), (1, 69), (1, 36), (1, 73), (1, 64), (1, 99), (1, 9), (1, 77), (1, 90), (1, 25), (1, 91), (1, 50), (1, 78), (1, 58), (1, 28), (1, 52), (1, 34), (1, 92), (1, 2), (1, 59), (1, 27), (1, 25), (1, 39), (1, 54), (1, 93), (1, 66), (1, 40), (1, 93), (1, 73), (1, 86), (1, 54), (1, 45), (1, 51), (1, 100), (1, 23), (1, 60), (1, 88), (1, 67), (1, 88), (1, 95), (1, 82), (1, 85), (1, 79), (1, 29), (1, 51), (1, 45), (1, 7), (1, 33), (1, 10), (1, 83), (1, 40), (1, 87), (1, 60), (1, 21), (1, 23), (1, 69), (1, 12), (1, 96), (1, 80), (1, 27), (1, 51), (1, 67), (1, 43), (1, 10), (1, 38), (1, 14), (1, 30), (1, 40), (1, 25), (1, 4), (1, 88), (1, 3), (1, 98), (1, 52), (1, 26), (1, 87), (1, 61), (1, 28), (1, 38), (1, 85), (1, 53), (1, 33), (1, 36), (1, 80), (1, 23), (1, 59), (1, 52), (1, 72), (1, 0), (1, 55)]\n",
            "[(1, [41, 58, 55, 74, 66, 74, 40, 64, 38, 66, 82, 69, 36, 73, 64, 99, 9, 77, 90, 25, 91, 50, 78, 58, 28, 52, 34, 92, 2, 59, 27, 25, 39, 54, 93, 66, 40, 93, 73, 86, 54, 45, 51, 100, 23, 60, 88, 67, 88, 95, 82, 85, 79, 29, 51, 45, 7, 33, 10, 83, 40, 87, 60, 21, 23, 69, 12, 96, 80, 27, 51, 67, 43, 10, 38, 14, 30, 40, 25, 4, 88, 3, 98, 52, 26, 87, 61, 28, 38, 85, 53, 33, 36, 80, 23, 59, 52, 72, 0, 55])]\n",
            "[53.81]\n"
          ]
        }
      ]
    },
    {
      "cell_type": "markdown",
      "metadata": {
        "id": "xanzszhsIlLe"
      },
      "source": [
        "### GroupByKey на основе сортировки\n",
        "\n",
        "Реализуйте groupByKey на основе сортировки, проверьте его работу на примерах"
      ]
    },
    {
      "cell_type": "code",
      "metadata": {
        "id": "hQPn3USsIkEC",
        "colab": {
          "base_uri": "https://localhost:8080/"
        },
        "outputId": "3bf94ef5-a775-4f57-b166-cba7f318694b"
      },
      "source": [
        "\n",
        "# Функция MAP для создания пары (1, num)\n",
        "def MAP(num):\n",
        "    return (1, num)\n",
        "\n",
        "# Функция REDUCE для вычисления среднего значения из итератора NamedTuple\n",
        "def REDUCE(key, nums: Iterator[NamedTuple]):\n",
        "    sum = 0\n",
        "    count = 0\n",
        "    for n in nums:\n",
        "        sum += n\n",
        "        count += 1\n",
        "    yield sum / count\n",
        "\n",
        "# Функция RECORDREADER для генерации списка случайных чисел\n",
        "def RECORDREADER(count):\n",
        "    return [random.randint(0, 100) for _ in range(count)]\n",
        "\n",
        "# Функция для группировки значений по ключу\n",
        "def group_by_key(iterable):\n",
        "    grouped_data = {}\n",
        "    for key, value in sorted(iterable, key=lambda x: x[0]):\n",
        "        grouped_data.setdefault(key, []).append(value)\n",
        "    return list(grouped_data.items())\n",
        "\n",
        "# Применение функции MAP к результату функции RECORDREADER\n",
        "map_output = list(map(lambda x: MAP(x), RECORDREADER(100)))\n",
        "print(map_output)\n",
        "\n",
        "# Группировка по ключу и преобразование в список\n",
        "shuffle_output = group_by_key(map_output)\n",
        "print(shuffle_output)\n",
        "\n",
        "# Применение функции REDUCE к результату группировки\n",
        "reduce_output = list(flatten(map(lambda x: REDUCE(*x), shuffle_output)))\n",
        "print(reduce_output)\n"
      ],
      "execution_count": 26,
      "outputs": [
        {
          "output_type": "stream",
          "name": "stdout",
          "text": [
            "[(1, 33), (1, 24), (1, 51), (1, 42), (1, 0), (1, 78), (1, 49), (1, 49), (1, 32), (1, 86), (1, 38), (1, 22), (1, 60), (1, 73), (1, 36), (1, 2), (1, 6), (1, 36), (1, 61), (1, 24), (1, 58), (1, 49), (1, 37), (1, 83), (1, 17), (1, 63), (1, 43), (1, 85), (1, 45), (1, 99), (1, 14), (1, 23), (1, 23), (1, 78), (1, 9), (1, 48), (1, 12), (1, 11), (1, 48), (1, 89), (1, 70), (1, 79), (1, 78), (1, 76), (1, 11), (1, 10), (1, 8), (1, 99), (1, 74), (1, 80), (1, 16), (1, 17), (1, 85), (1, 34), (1, 74), (1, 95), (1, 43), (1, 85), (1, 59), (1, 89), (1, 63), (1, 74), (1, 69), (1, 31), (1, 57), (1, 48), (1, 87), (1, 96), (1, 14), (1, 82), (1, 26), (1, 74), (1, 23), (1, 90), (1, 68), (1, 58), (1, 29), (1, 23), (1, 76), (1, 46), (1, 33), (1, 97), (1, 29), (1, 76), (1, 79), (1, 96), (1, 33), (1, 73), (1, 87), (1, 50), (1, 13), (1, 27), (1, 10), (1, 72), (1, 46), (1, 92), (1, 91), (1, 70), (1, 79), (1, 44)]\n",
            "[(1, [33, 24, 51, 42, 0, 78, 49, 49, 32, 86, 38, 22, 60, 73, 36, 2, 6, 36, 61, 24, 58, 49, 37, 83, 17, 63, 43, 85, 45, 99, 14, 23, 23, 78, 9, 48, 12, 11, 48, 89, 70, 79, 78, 76, 11, 10, 8, 99, 74, 80, 16, 17, 85, 34, 74, 95, 43, 85, 59, 89, 63, 74, 69, 31, 57, 48, 87, 96, 14, 82, 26, 74, 23, 90, 68, 58, 29, 23, 76, 46, 33, 97, 29, 76, 79, 96, 33, 73, 87, 50, 13, 27, 10, 72, 46, 92, 91, 70, 79, 44])]\n",
            "[52.49]\n"
          ]
        }
      ]
    },
    {
      "cell_type": "markdown",
      "metadata": {
        "id": "5SgEjCZyGnu6"
      },
      "source": [
        "### Drop duplicates (set construction, unique elements, distinct)\n",
        "\n",
        "Реализуйте распределённую операцию исключения дубликатов"
      ]
    },
    {
      "cell_type": "code",
      "metadata": {
        "id": "okjbyApjGhMt",
        "colab": {
          "base_uri": "https://localhost:8080/"
        },
        "outputId": "6c8509a3-54b5-4bd8-8d88-1e277b1fffb9"
      },
      "source": [
        "def flatten(nested_iterable):\n",
        "    # Функция для \"выравнивания\" вложенной структуры данных\n",
        "    for iterable in nested_iterable:\n",
        "        for element in iterable:\n",
        "            yield element\n",
        "\n",
        "def groupbykey(iterable):\n",
        "    # Группировка данных по ключу\n",
        "    grouped_data = {}\n",
        "    for key, value in iterable:\n",
        "        grouped_data.setdefault(key, []).append(value)\n",
        "    return list(grouped_data.items())\n",
        "\n",
        "def groupbykey_distributed(map_partitions, PARTITIONER):\n",
        "    # Распределенная группировка данных по ключу\n",
        "    global reducers\n",
        "    partitions = [dict() for _ in range(reducers)]\n",
        "    for map_partition in map_partitions:\n",
        "        for key, value in map_partition:\n",
        "            p = partitions[PARTITIONER(key)]\n",
        "            p.setdefault(key, []).append(value)\n",
        "    return [(partition_id, sorted(partition.items(), key=lambda x: x[0])) for (partition_id, partition) in enumerate(partitions)]\n",
        "\n",
        "def PARTITIONER(obj):\n",
        "    # Функция для определения разделителя (партиционера)\n",
        "    global reducers\n",
        "    return hash(obj) % reducers\n",
        "\n",
        "# Функция для выполнения операций MapReduce\n",
        "def MapReduceDistributed(INPUTFORMAT, MAP, REDUCE, PARTITIONER=PARTITIONER, COMBINER=None):\n",
        "\n",
        "    # Применяем функцию MAP к каждой записи во входных данных, затем \"выравниваем\" результаты\n",
        "    map_partitions = map(lambda record_reader: flatten(map(lambda k1v1: MAP(*k1v1), record_reader)), INPUTFORMAT())\n",
        "\n",
        "    # Если задан комбайнер (COMBINER), применяем его к данным после группировки по ключу\n",
        "    if COMBINER is not None:\n",
        "        map_partitions = map(lambda map_partition: flatten(map(lambda k2v2: COMBINER(*k2v2), groupbykey(map_partition))), map_partitions)\n",
        "\n",
        "    # Выполняем распределенную группировку данных по ключу с использованием заданного партиционера\n",
        "    reduce_partitions = groupbykey_distributed(map_partitions, PARTITIONER)\n",
        "\n",
        "    # Применяем функцию REDUCE к каждой группе данных после группировки и \"выравниваем\" результаты\n",
        "    reduce_outputs = map(lambda reduce_partition: (reduce_partition[0], flatten(map(lambda reduce_input_group: REDUCE(*reduce_input_group),\n",
        "                                                                                    reduce_partition[1]))), reduce_partitions)\n",
        "       # Вычисляем общее количество отправленных по сети пар ключ-значение\n",
        "    total_values_sent = sum([len(vs) for (k, vs) in flatten([partition for (partition_id, partition) in reduce_partitions])])\n",
        "\n",
        "    # Выводим информацию о количестве отправленных данных и возвращаем результат операций MapReduce\n",
        "    print(f\"{total_values_sent} key-value pairs were sent over a network.\")\n",
        "    return reduce_outputs\n",
        "\n",
        "\n",
        "\n",
        "from typing import Iterator\n",
        "import numpy as np\n",
        "\n",
        "# Задание текстовых документов\n",
        "d1 = \"\"\"\n",
        "it is what it is\n",
        "it is what it is\n",
        "it is what it is\"\"\"\n",
        "d2 = \"\"\"\n",
        "what is it\n",
        "what is it\"\"\"\n",
        "d3 = \"\"\"\n",
        "it is a banana\"\"\"\n",
        "documents = [d1, d2, d3, d1, d2, d3]\n",
        "\n",
        "maps = 3\n",
        "reducers = 2\n",
        "\n",
        "def INPUTFORMAT():\n",
        "    # Форматирование входных данных для MapReduce\n",
        "    global maps\n",
        "\n",
        "    # Функция RECORDREADER принимает на вход раздел (split) данных и генерирует ключ-значение для каждой строки документа\n",
        "    def RECORDREADER(split):\n",
        "      # Перебираем каждый документ в разделе, присваивая ему уникальный идентификатор docid\n",
        "        for (docid, document) in enumerate(split):\n",
        "          # Для каждой строки в документе создаем уникальный идентификатор lineid и разбиваем строку по символу новой строки '\\n'\n",
        "            for (lineid, line) in enumerate(document.split('\\n')):\n",
        "               # Генерируем ключ в формате \"docid:lineid\" и значение - строку из документа\n",
        "                yield (\"{}:{}\".format(docid, lineid), line)\n",
        "    # Вычисляем размер раздела данных split_size как округленное вверх\n",
        "    #значение от деления общего числа документов на количество задач MapReduce\n",
        "    split_size = int(np.ceil(len(documents) / maps))\n",
        "    # Цикл по документам с шагом split_size\n",
        "    for i in range(0, len(documents), split_size):\n",
        "      # Генерируем данные для каждого раздела данных путем вызова функции RECORDREADER с подмножеством документов\n",
        "        yield RECORDREADER(documents[i:i + split_size])\n",
        "\n",
        "def MAP(docId: str, line: str):\n",
        "    # Функция Map для преобразования данных\n",
        "    for word in line.split(\" \"):\n",
        "        yield (word, word)\n",
        "\n",
        "def REDUCE(key: str, value: Iterator[str]):\n",
        "    # Функция Reduce для агрегации данных\n",
        "    yield key\n",
        "\n",
        "# Выполнение MapReduce операций с заданными функциями MAP и REDUCE\n",
        "partitioned_output = MapReduceDistributed(INPUTFORMAT, MAP, REDUCE, COMBINER=None)\n",
        "partitioned_output = [(partition_id, list(partition)) for (partition_id, partition) in partitioned_output]\n",
        "partitioned_output\n"
      ],
      "execution_count": 27,
      "outputs": [
        {
          "output_type": "stream",
          "name": "stdout",
          "text": [
            "56 key-value pairs were sent over a network.\n"
          ]
        },
        {
          "output_type": "execute_result",
          "data": {
            "text/plain": [
              "[(0, ['', 'a', 'banana', 'is', 'it']), (1, ['what'])]"
            ]
          },
          "metadata": {},
          "execution_count": 27
        }
      ]
    },
    {
      "cell_type": "markdown",
      "metadata": {
        "id": "e7sRGoTXuJze"
      },
      "source": [
        "#Операторы реляционной алгебры\n",
        "### Selection (Выборка)\n",
        "\n",
        "**The Map Function**: Для  каждого кортежа $t \\in R$ вычисляется истинность предиката $C$. В случае истины создаётся пара ключ-значение $(t, t)$. В паре ключ и значение одинаковы, равны $t$.\n",
        "\n",
        "**The Reduce Function:** Роль функции Reduce выполняет функция идентичности, которая возвращает то же значение, что получила на вход.\n",
        "\n"
      ]
    },
    {
      "cell_type": "code",
      "metadata": {
        "id": "4nKIKe59uIfc",
        "colab": {
          "base_uri": "https://localhost:8080/"
        },
        "outputId": "399a1e7e-7cd8-4b58-f026-f936aa1eae29"
      },
      "source": [
        "from collections import defaultdict\n",
        "\n",
        "# Функция для реализации MAP операции\n",
        "def MAP(el_list):\n",
        "    mapped_result = defaultdict(list)\n",
        "    for t in el_list:\n",
        "        if C(t):  # Предикат C - выбираем только кортежи, удовлетворяющие условию\n",
        "            mapped_result[t].append(t)\n",
        "    return mapped_result.items()\n",
        "\n",
        "# Функция для реализации REDUCE операции\n",
        "def REDUCE(mapped_items):\n",
        "    reduced_result = []\n",
        "    print(mapped_items)  # Выводим промежуточный результат\n",
        "    for values in mapped_items:\n",
        "        for value in values:\n",
        "            reduced_result.append(value[0])  # Добавляем первый элемент каждого кортежа в итоговый список\n",
        "    return reduced_result\n",
        "\n",
        "# Предикат для фильтрации кортежей с четным первым элементом\n",
        "def C(t):\n",
        "    return t[0] % 2 == 0\n",
        "\n",
        "# Генерация случайных записей (кортежей формата (x, y, z))\n",
        "def RECORDREADER(count):\n",
        "    return [(random.randint(0, 100), random.randint(0, 100), random.randint(0, 100)) for i in range(count)]\n",
        "\n",
        "# Создание набора записей\n",
        "record = RECORDREADER(5)\n",
        "print(record)\n",
        "\n",
        "# Разбиение записей на равные части\n",
        "part_count = 5\n",
        "record_partitional = [record[d:d + part_count] for d in range(0, len(record), part_count)]\n",
        "print(record_partitional)\n",
        "\n",
        "# Применение операции MAP и последующей REDUCE к разделенным записям\n",
        "print(REDUCE(list(map(lambda x: MAP(x), record_partitional))))\n"
      ],
      "execution_count": 28,
      "outputs": [
        {
          "output_type": "stream",
          "name": "stdout",
          "text": [
            "[(49, 45, 23), (94, 74, 93), (21, 31, 29), (41, 12, 92), (6, 68, 10)]\n",
            "[[(49, 45, 23), (94, 74, 93), (21, 31, 29), (41, 12, 92), (6, 68, 10)]]\n",
            "[dict_items([((94, 74, 93), [(94, 74, 93)]), ((6, 68, 10), [(6, 68, 10)])])]\n",
            "[(94, 74, 93), (6, 68, 10)]\n"
          ]
        }
      ]
    },
    {
      "cell_type": "markdown",
      "metadata": {
        "id": "w27Ca-_Ku85V"
      },
      "source": [
        "### Projection (Проекция)\n",
        "\n",
        "Проекция на множество атрибутов $S$.\n",
        "\n",
        "**The Map Function:** Для каждого кортежа $t \\in R$ создайте кортеж $t′$, исключая  из $t$ те значения, атрибуты которых не принадлежат  $S$. Верните пару $(t′, t′)$.\n",
        "\n",
        "**The Reduce Function:** Для каждого ключа $t′$, созданного любой Map задачей, вы получаете одну или несколько пар $(t′, t′)$. Reduce функция преобразует $(t′, [t′, t′, . . . , t′])$ в $(t′, t′)$, так, что для ключа $t′$ возвращается одна пара  $(t′, t′)$."
      ]
    },
    {
      "cell_type": "code",
      "metadata": {
        "id": "BEvuY4GqvhS6",
        "colab": {
          "base_uri": "https://localhost:8080/"
        },
        "outputId": "118c75ab-21f0-41dc-8ca0-49d41158c9ed"
      },
      "source": [
        "S = set([25, 90, 69])  # Создаем множество S\n",
        "\n",
        "def MAP(t):\n",
        "    res_list = []\n",
        "    for el in t:  # Перебираем элементы входного кортежа t\n",
        "        if el in S:  # Проверяем, есть ли элемент el в множестве S\n",
        "            res_list.append(el)  # Добавляем элемент el в результирующий список\n",
        "    res = tuple(res_list)  # Преобразуем список в кортеж\n",
        "    return (res, res)  # Возвращаем кортеж из результирующего списка дважды\n",
        "\n",
        "def REDUCE(key, values: Iterator[NamedTuple]):\n",
        "    return (key, key)  # Возвращает кортеж с ключом и значением равными ключу\n",
        "\n",
        "def RECORDREADER(count):\n",
        "    return [(random.randint(0, 100), random.randint(0, 100), random.randint(0, 100)) for i in range(count)]  # Генерирует список кортежей случайных чисел\n",
        "\n",
        "def group_by_key(iterable):\n",
        "    t = {}\n",
        "    for (k2, v2) in iterable:  # Перебираем элементы входного итерируемого объекта\n",
        "        t[k2] = t.get(k2, []) + [v2]  # Группируем значения по ключу k2\n",
        "    return t.items()  # Возвращаем список кортежей (ключ, список значений)\n",
        "\n",
        "record = RECORDREADER(5)  # Генерируем список кортежей случайных чисел\n",
        "print(record)\n",
        "\n",
        "map_output = list(map(lambda x: MAP(x), RECORDREADER(100)))  # Применяем функцию MAP ко всем элементам RECORDREADER(100)\n",
        "print(map_output)\n",
        "\n",
        "shuffle_output = group_by_key(map_output)  # Группируем значения по ключу\n",
        "shuffle_output = list(shuffle_output)  # Преобразуем результат в список\n",
        "\n",
        "print(shuffle_output)\n",
        "\n",
        "reduce_output = list(map(lambda x: REDUCE(*x)[0], shuffle_output))  # Применяем функцию REDUCE к результату группировки\n",
        "print(reduce_output)\n"
      ],
      "execution_count": 29,
      "outputs": [
        {
          "output_type": "stream",
          "name": "stdout",
          "text": [
            "[(79, 18, 83), (60, 49, 70), (85, 50, 80), (34, 97, 72), (75, 1, 24)]\n",
            "[((), ()), ((), ()), ((), ()), ((), ()), ((), ()), ((), ()), ((), ()), ((25,), (25,)), ((), ()), ((), ()), ((), ()), ((), ()), ((), ()), ((), ()), ((), ()), ((), ()), ((), ()), ((), ()), ((), ()), ((), ()), ((), ()), ((), ()), ((), ()), ((), ()), ((), ()), ((), ()), ((), ()), ((), ()), ((69,), (69,)), ((), ()), ((90,), (90,)), ((), ()), ((), ()), ((), ()), ((), ()), ((), ()), ((), ()), ((), ()), ((), ()), ((), ()), ((), ()), ((), ()), ((), ()), ((), ()), ((), ()), ((), ()), ((), ()), ((), ()), ((), ()), ((), ()), ((), ()), ((), ()), ((), ()), ((), ()), ((), ()), ((), ()), ((), ()), ((), ()), ((), ()), ((), ()), ((), ()), ((), ()), ((), ()), ((90,), (90,)), ((), ()), ((), ()), ((), ()), ((), ()), ((), ()), ((), ()), ((), ()), ((), ()), ((), ()), ((90,), (90,)), ((), ()), ((), ()), ((), ()), ((), ()), ((), ()), ((), ()), ((), ()), ((), ()), ((), ()), ((), ()), ((), ()), ((), ()), ((69,), (69,)), ((), ()), ((), ()), ((), ()), ((), ()), ((), ()), ((), ()), ((), ()), ((), ()), ((), ()), ((), ()), ((), ()), ((), ()), ((), ())]\n",
            "[((), [(), (), (), (), (), (), (), (), (), (), (), (), (), (), (), (), (), (), (), (), (), (), (), (), (), (), (), (), (), (), (), (), (), (), (), (), (), (), (), (), (), (), (), (), (), (), (), (), (), (), (), (), (), (), (), (), (), (), (), (), (), (), (), (), (), (), (), (), (), (), (), (), (), (), (), (), (), (), (), (), (), (), (), (), (), (), (), (), (), (), (), (), (), ()]), ((25,), [(25,)]), ((69,), [(69,), (69,)]), ((90,), [(90,), (90,), (90,)])]\n",
            "[(), (25,), (69,), (90,)]\n"
          ]
        }
      ]
    },
    {
      "cell_type": "markdown",
      "metadata": {
        "id": "7gau6lKXvn2R"
      },
      "source": [
        "### Union (Объединение)\n",
        "\n",
        "**The Map Function:** Превратите каждый входной кортеж $t$ в пару ключ-значение $(t, t)$.\n",
        "\n",
        "**The Reduce Function:** С каждым ключом $t$ будет ассоциировано одно или два значений. В обоих случаях создайте $(t, t)$ в качестве выходного значения."
      ]
    },
    {
      "cell_type": "code",
      "metadata": {
        "id": "Sns7a5agv3nw",
        "colab": {
          "base_uri": "https://localhost:8080/"
        },
        "outputId": "e7fee7f6-c61b-4a21-8ce2-bc9838a8e535"
      },
      "source": [
        "def MAP(t):\n",
        "    return (t, t)  # Функция MAP возвращает кортеж из входного элемента и этого же элемента\n",
        "\n",
        "def REDUCE(key, values: Iterator[NamedTuple]):\n",
        "    return (key, key)  # Функция REDUCE возвращает кортеж с ключом и значением равными ключу\n",
        "\n",
        "def RECORDREADER(count):\n",
        "    return [(random.randint(0, 100), random.randint(0, 100), random.randint(0, 100)) for i in range(count)]  # Генерирует список кортежей случайных чисел\n",
        "\n",
        "def group_by_key(iterable):\n",
        "    t = {}\n",
        "    for (k2, v2) in iterable:  # Перебираем элементы входного итерируемого объекта\n",
        "        t[k2] = t.get(k2, []) + [v2]  # Группируем значения по ключу k2\n",
        "    return t.items()  # Возвращаем список кортежей (ключ, список значений)\n",
        "\n",
        "record = RECORDREADER(5)  # Генерируем список кортежей случайных чисел\n",
        "print(record)\n",
        "\n",
        "map_output = list(map(lambda x: MAP(x), RECORDREADER(100)))  # Применяем функцию MAP ко всем элементам RECORDREADER(100)\n",
        "print(map_output)\n",
        "\n",
        "shuffle_output = group_by_key(map_output)  # Группируем значения по ключу\n",
        "shuffle_output = list(shuffle_output)  # Преобразуем результат в список\n",
        "print(shuffle_output)\n",
        "\n",
        "reduce_output = list(map(lambda x: REDUCE(*x)[0], shuffle_output))  # Применяем функцию REDUCE к результату группировки\n",
        "print(reduce_output)\n"
      ],
      "execution_count": 30,
      "outputs": [
        {
          "output_type": "stream",
          "name": "stdout",
          "text": [
            "[(3, 93, 79), (27, 35, 70), (67, 15, 62), (25, 26, 67), (2, 2, 91)]\n",
            "[((5, 28, 9), (5, 28, 9)), ((55, 26, 13), (55, 26, 13)), ((44, 67, 87), (44, 67, 87)), ((70, 28, 32), (70, 28, 32)), ((12, 89, 99), (12, 89, 99)), ((85, 76, 95), (85, 76, 95)), ((48, 70, 60), (48, 70, 60)), ((35, 73, 64), (35, 73, 64)), ((96, 48, 99), (96, 48, 99)), ((75, 81, 28), (75, 81, 28)), ((64, 78, 97), (64, 78, 97)), ((27, 23, 50), (27, 23, 50)), ((47, 57, 92), (47, 57, 92)), ((81, 71, 99), (81, 71, 99)), ((35, 81, 90), (35, 81, 90)), ((67, 1, 22), (67, 1, 22)), ((83, 44, 42), (83, 44, 42)), ((85, 30, 17), (85, 30, 17)), ((49, 0, 1), (49, 0, 1)), ((50, 75, 62), (50, 75, 62)), ((45, 52, 50), (45, 52, 50)), ((78, 92, 36), (78, 92, 36)), ((83, 44, 35), (83, 44, 35)), ((47, 2, 35), (47, 2, 35)), ((67, 43, 94), (67, 43, 94)), ((64, 53, 0), (64, 53, 0)), ((11, 48, 82), (11, 48, 82)), ((15, 84, 73), (15, 84, 73)), ((7, 74, 66), (7, 74, 66)), ((39, 82, 34), (39, 82, 34)), ((95, 33, 100), (95, 33, 100)), ((90, 15, 99), (90, 15, 99)), ((7, 34, 91), (7, 34, 91)), ((65, 80, 80), (65, 80, 80)), ((89, 22, 78), (89, 22, 78)), ((62, 97, 20), (62, 97, 20)), ((26, 79, 60), (26, 79, 60)), ((53, 88, 74), (53, 88, 74)), ((79, 87, 14), (79, 87, 14)), ((54, 73, 32), (54, 73, 32)), ((4, 87, 91), (4, 87, 91)), ((52, 100, 57), (52, 100, 57)), ((79, 59, 23), (79, 59, 23)), ((58, 14, 50), (58, 14, 50)), ((60, 6, 58), (60, 6, 58)), ((45, 20, 9), (45, 20, 9)), ((52, 89, 67), (52, 89, 67)), ((91, 4, 47), (91, 4, 47)), ((94, 17, 6), (94, 17, 6)), ((3, 94, 53), (3, 94, 53)), ((91, 17, 20), (91, 17, 20)), ((14, 27, 20), (14, 27, 20)), ((9, 24, 41), (9, 24, 41)), ((42, 11, 67), (42, 11, 67)), ((85, 83, 21), (85, 83, 21)), ((93, 65, 51), (93, 65, 51)), ((70, 66, 21), (70, 66, 21)), ((5, 40, 2), (5, 40, 2)), ((91, 48, 12), (91, 48, 12)), ((86, 39, 87), (86, 39, 87)), ((34, 30, 1), (34, 30, 1)), ((92, 40, 88), (92, 40, 88)), ((78, 79, 99), (78, 79, 99)), ((43, 41, 96), (43, 41, 96)), ((87, 59, 90), (87, 59, 90)), ((24, 84, 86), (24, 84, 86)), ((85, 69, 72), (85, 69, 72)), ((32, 78, 83), (32, 78, 83)), ((82, 27, 16), (82, 27, 16)), ((71, 79, 47), (71, 79, 47)), ((14, 5, 81), (14, 5, 81)), ((72, 41, 29), (72, 41, 29)), ((80, 82, 47), (80, 82, 47)), ((89, 28, 19), (89, 28, 19)), ((42, 77, 19), (42, 77, 19)), ((69, 33, 40), (69, 33, 40)), ((82, 16, 74), (82, 16, 74)), ((58, 71, 8), (58, 71, 8)), ((51, 65, 64), (51, 65, 64)), ((49, 10, 9), (49, 10, 9)), ((19, 22, 86), (19, 22, 86)), ((2, 97, 84), (2, 97, 84)), ((79, 58, 74), (79, 58, 74)), ((1, 69, 26), (1, 69, 26)), ((56, 55, 18), (56, 55, 18)), ((25, 74, 9), (25, 74, 9)), ((70, 25, 38), (70, 25, 38)), ((38, 72, 33), (38, 72, 33)), ((47, 87, 92), (47, 87, 92)), ((59, 78, 36), (59, 78, 36)), ((54, 2, 63), (54, 2, 63)), ((62, 92, 55), (62, 92, 55)), ((44, 18, 36), (44, 18, 36)), ((34, 35, 96), (34, 35, 96)), ((58, 75, 62), (58, 75, 62)), ((3, 50, 7), (3, 50, 7)), ((2, 44, 90), (2, 44, 90)), ((7, 86, 89), (7, 86, 89)), ((84, 17, 48), (84, 17, 48)), ((50, 8, 73), (50, 8, 73))]\n",
            "[((5, 28, 9), [(5, 28, 9)]), ((55, 26, 13), [(55, 26, 13)]), ((44, 67, 87), [(44, 67, 87)]), ((70, 28, 32), [(70, 28, 32)]), ((12, 89, 99), [(12, 89, 99)]), ((85, 76, 95), [(85, 76, 95)]), ((48, 70, 60), [(48, 70, 60)]), ((35, 73, 64), [(35, 73, 64)]), ((96, 48, 99), [(96, 48, 99)]), ((75, 81, 28), [(75, 81, 28)]), ((64, 78, 97), [(64, 78, 97)]), ((27, 23, 50), [(27, 23, 50)]), ((47, 57, 92), [(47, 57, 92)]), ((81, 71, 99), [(81, 71, 99)]), ((35, 81, 90), [(35, 81, 90)]), ((67, 1, 22), [(67, 1, 22)]), ((83, 44, 42), [(83, 44, 42)]), ((85, 30, 17), [(85, 30, 17)]), ((49, 0, 1), [(49, 0, 1)]), ((50, 75, 62), [(50, 75, 62)]), ((45, 52, 50), [(45, 52, 50)]), ((78, 92, 36), [(78, 92, 36)]), ((83, 44, 35), [(83, 44, 35)]), ((47, 2, 35), [(47, 2, 35)]), ((67, 43, 94), [(67, 43, 94)]), ((64, 53, 0), [(64, 53, 0)]), ((11, 48, 82), [(11, 48, 82)]), ((15, 84, 73), [(15, 84, 73)]), ((7, 74, 66), [(7, 74, 66)]), ((39, 82, 34), [(39, 82, 34)]), ((95, 33, 100), [(95, 33, 100)]), ((90, 15, 99), [(90, 15, 99)]), ((7, 34, 91), [(7, 34, 91)]), ((65, 80, 80), [(65, 80, 80)]), ((89, 22, 78), [(89, 22, 78)]), ((62, 97, 20), [(62, 97, 20)]), ((26, 79, 60), [(26, 79, 60)]), ((53, 88, 74), [(53, 88, 74)]), ((79, 87, 14), [(79, 87, 14)]), ((54, 73, 32), [(54, 73, 32)]), ((4, 87, 91), [(4, 87, 91)]), ((52, 100, 57), [(52, 100, 57)]), ((79, 59, 23), [(79, 59, 23)]), ((58, 14, 50), [(58, 14, 50)]), ((60, 6, 58), [(60, 6, 58)]), ((45, 20, 9), [(45, 20, 9)]), ((52, 89, 67), [(52, 89, 67)]), ((91, 4, 47), [(91, 4, 47)]), ((94, 17, 6), [(94, 17, 6)]), ((3, 94, 53), [(3, 94, 53)]), ((91, 17, 20), [(91, 17, 20)]), ((14, 27, 20), [(14, 27, 20)]), ((9, 24, 41), [(9, 24, 41)]), ((42, 11, 67), [(42, 11, 67)]), ((85, 83, 21), [(85, 83, 21)]), ((93, 65, 51), [(93, 65, 51)]), ((70, 66, 21), [(70, 66, 21)]), ((5, 40, 2), [(5, 40, 2)]), ((91, 48, 12), [(91, 48, 12)]), ((86, 39, 87), [(86, 39, 87)]), ((34, 30, 1), [(34, 30, 1)]), ((92, 40, 88), [(92, 40, 88)]), ((78, 79, 99), [(78, 79, 99)]), ((43, 41, 96), [(43, 41, 96)]), ((87, 59, 90), [(87, 59, 90)]), ((24, 84, 86), [(24, 84, 86)]), ((85, 69, 72), [(85, 69, 72)]), ((32, 78, 83), [(32, 78, 83)]), ((82, 27, 16), [(82, 27, 16)]), ((71, 79, 47), [(71, 79, 47)]), ((14, 5, 81), [(14, 5, 81)]), ((72, 41, 29), [(72, 41, 29)]), ((80, 82, 47), [(80, 82, 47)]), ((89, 28, 19), [(89, 28, 19)]), ((42, 77, 19), [(42, 77, 19)]), ((69, 33, 40), [(69, 33, 40)]), ((82, 16, 74), [(82, 16, 74)]), ((58, 71, 8), [(58, 71, 8)]), ((51, 65, 64), [(51, 65, 64)]), ((49, 10, 9), [(49, 10, 9)]), ((19, 22, 86), [(19, 22, 86)]), ((2, 97, 84), [(2, 97, 84)]), ((79, 58, 74), [(79, 58, 74)]), ((1, 69, 26), [(1, 69, 26)]), ((56, 55, 18), [(56, 55, 18)]), ((25, 74, 9), [(25, 74, 9)]), ((70, 25, 38), [(70, 25, 38)]), ((38, 72, 33), [(38, 72, 33)]), ((47, 87, 92), [(47, 87, 92)]), ((59, 78, 36), [(59, 78, 36)]), ((54, 2, 63), [(54, 2, 63)]), ((62, 92, 55), [(62, 92, 55)]), ((44, 18, 36), [(44, 18, 36)]), ((34, 35, 96), [(34, 35, 96)]), ((58, 75, 62), [(58, 75, 62)]), ((3, 50, 7), [(3, 50, 7)]), ((2, 44, 90), [(2, 44, 90)]), ((7, 86, 89), [(7, 86, 89)]), ((84, 17, 48), [(84, 17, 48)]), ((50, 8, 73), [(50, 8, 73)])]\n",
            "[(5, 28, 9), (55, 26, 13), (44, 67, 87), (70, 28, 32), (12, 89, 99), (85, 76, 95), (48, 70, 60), (35, 73, 64), (96, 48, 99), (75, 81, 28), (64, 78, 97), (27, 23, 50), (47, 57, 92), (81, 71, 99), (35, 81, 90), (67, 1, 22), (83, 44, 42), (85, 30, 17), (49, 0, 1), (50, 75, 62), (45, 52, 50), (78, 92, 36), (83, 44, 35), (47, 2, 35), (67, 43, 94), (64, 53, 0), (11, 48, 82), (15, 84, 73), (7, 74, 66), (39, 82, 34), (95, 33, 100), (90, 15, 99), (7, 34, 91), (65, 80, 80), (89, 22, 78), (62, 97, 20), (26, 79, 60), (53, 88, 74), (79, 87, 14), (54, 73, 32), (4, 87, 91), (52, 100, 57), (79, 59, 23), (58, 14, 50), (60, 6, 58), (45, 20, 9), (52, 89, 67), (91, 4, 47), (94, 17, 6), (3, 94, 53), (91, 17, 20), (14, 27, 20), (9, 24, 41), (42, 11, 67), (85, 83, 21), (93, 65, 51), (70, 66, 21), (5, 40, 2), (91, 48, 12), (86, 39, 87), (34, 30, 1), (92, 40, 88), (78, 79, 99), (43, 41, 96), (87, 59, 90), (24, 84, 86), (85, 69, 72), (32, 78, 83), (82, 27, 16), (71, 79, 47), (14, 5, 81), (72, 41, 29), (80, 82, 47), (89, 28, 19), (42, 77, 19), (69, 33, 40), (82, 16, 74), (58, 71, 8), (51, 65, 64), (49, 10, 9), (19, 22, 86), (2, 97, 84), (79, 58, 74), (1, 69, 26), (56, 55, 18), (25, 74, 9), (70, 25, 38), (38, 72, 33), (47, 87, 92), (59, 78, 36), (54, 2, 63), (62, 92, 55), (44, 18, 36), (34, 35, 96), (58, 75, 62), (3, 50, 7), (2, 44, 90), (7, 86, 89), (84, 17, 48), (50, 8, 73)]\n"
          ]
        }
      ]
    },
    {
      "cell_type": "markdown",
      "metadata": {
        "id": "dQ8TuEbjv4J8"
      },
      "source": [
        "### Intersection (Пересечение)\n",
        "\n",
        "**The Map Function:** Превратите каждый кортеж $t$ в пары ключ-значение $(t, t)$.\n",
        "\n",
        "**The Reduce Function:** Если для ключа $t$ есть список из двух элементов $[t, t]$ $-$ создайте пару $(t, t)$. Иначе, ничего не создавайте."
      ]
    },
    {
      "cell_type": "code",
      "metadata": {
        "id": "XKlBZh4IwERR",
        "colab": {
          "base_uri": "https://localhost:8080/"
        },
        "outputId": "e959b9a7-17b3-4a8b-dcd5-535234a86044"
      },
      "source": [
        "def MAP(t):\n",
        "    return (t, t)  # Функция MAP возвращает кортеж из входного элемента и этого же элемента\n",
        "\n",
        "def REDUCE(key, values: Iterator[NamedTuple]):\n",
        "    if len(values) == 2:  # Если количество значений равно 2\n",
        "        return (key, key)  # Возвращает кортеж с ключом и значением равными ключу\n",
        "\n",
        "def RECORDREADER(count):\n",
        "    return [(random.randint(0, 3), random.randint(0, 3)) for i in range(count)]  # Генерирует список кортежей случайных чисел\n",
        "\n",
        "def group_by_key(iterable):\n",
        "    t = {}\n",
        "    for (k2, v2) in iterable:  # Перебираем элементы входного итерируемого объекта\n",
        "        t[k2] = t.get(k2, []) + [v2]  # Группируем значения по ключу k2\n",
        "    return t.items()  # Возвращаем список кортежей (ключ, список значений)\n",
        "\n",
        "record = RECORDREADER(100)  # Генерируем список кортежей случайных чисел\n",
        "print(record)\n",
        "\n",
        "map_output = list(map(lambda x: MAP(x), RECORDREADER(100)))  # Применяем функцию MAP ко всем элементам RECORDREADER(10)\n",
        "print(map_output)\n",
        "\n",
        "shuffle_output = group_by_key(map_output)  # Группируем значения по ключу\n",
        "shuffle_output = list(shuffle_output)  # Преобразуем результат в список\n",
        "print(shuffle_output)\n",
        "\n",
        "reduce_output = [el[0] for el in list(map(lambda x: REDUCE(*x), shuffle_output)) if el is not None]  # Применяем функцию REDUCE к результату группировки\n",
        "print(reduce_output)\n"
      ],
      "execution_count": 31,
      "outputs": [
        {
          "output_type": "stream",
          "name": "stdout",
          "text": [
            "[(2, 0), (0, 0), (3, 0), (2, 0), (3, 2), (2, 2), (0, 1), (1, 0), (0, 2), (1, 3), (1, 2), (0, 1), (2, 2), (1, 2), (2, 0), (3, 1), (2, 3), (1, 2), (1, 3), (3, 0), (1, 1), (3, 0), (0, 3), (1, 0), (2, 3), (3, 1), (1, 0), (0, 1), (3, 2), (3, 3), (3, 1), (0, 0), (0, 2), (2, 1), (2, 3), (3, 1), (1, 3), (3, 0), (0, 1), (1, 1), (2, 0), (3, 2), (0, 1), (1, 3), (2, 1), (1, 1), (2, 0), (2, 1), (2, 1), (2, 0), (3, 0), (1, 2), (1, 2), (0, 3), (1, 0), (2, 0), (3, 3), (0, 3), (0, 1), (1, 1), (3, 0), (2, 0), (2, 3), (1, 3), (1, 1), (1, 0), (3, 1), (2, 3), (0, 3), (0, 1), (1, 3), (1, 2), (1, 1), (0, 2), (3, 0), (3, 3), (2, 0), (2, 3), (2, 0), (0, 0), (0, 1), (3, 3), (1, 1), (1, 0), (1, 0), (0, 0), (1, 1), (1, 1), (1, 1), (1, 2), (3, 1), (1, 3), (0, 3), (2, 1), (1, 3), (1, 1), (1, 2), (1, 3), (2, 1), (1, 0)]\n",
            "[((0, 0), (0, 0)), ((2, 0), (2, 0)), ((1, 3), (1, 3)), ((1, 1), (1, 1)), ((0, 3), (0, 3)), ((1, 2), (1, 2)), ((2, 0), (2, 0)), ((1, 0), (1, 0)), ((3, 1), (3, 1)), ((2, 3), (2, 3)), ((2, 0), (2, 0)), ((2, 1), (2, 1)), ((0, 0), (0, 0)), ((3, 1), (3, 1)), ((1, 0), (1, 0)), ((3, 0), (3, 0)), ((2, 2), (2, 2)), ((3, 1), (3, 1)), ((1, 1), (1, 1)), ((2, 0), (2, 0)), ((1, 0), (1, 0)), ((0, 0), (0, 0)), ((3, 0), (3, 0)), ((3, 3), (3, 3)), ((3, 0), (3, 0)), ((0, 0), (0, 0)), ((1, 2), (1, 2)), ((1, 0), (1, 0)), ((0, 2), (0, 2)), ((1, 3), (1, 3)), ((0, 3), (0, 3)), ((0, 1), (0, 1)), ((3, 1), (3, 1)), ((0, 2), (0, 2)), ((2, 0), (2, 0)), ((1, 0), (1, 0)), ((0, 3), (0, 3)), ((3, 1), (3, 1)), ((3, 0), (3, 0)), ((2, 0), (2, 0)), ((2, 3), (2, 3)), ((0, 0), (0, 0)), ((2, 1), (2, 1)), ((2, 2), (2, 2)), ((0, 3), (0, 3)), ((0, 1), (0, 1)), ((1, 3), (1, 3)), ((1, 1), (1, 1)), ((3, 3), (3, 3)), ((3, 0), (3, 0)), ((2, 2), (2, 2)), ((2, 1), (2, 1)), ((3, 3), (3, 3)), ((2, 2), (2, 2)), ((3, 3), (3, 3)), ((0, 1), (0, 1)), ((1, 2), (1, 2)), ((3, 0), (3, 0)), ((2, 0), (2, 0)), ((3, 3), (3, 3)), ((2, 1), (2, 1)), ((3, 3), (3, 3)), ((2, 2), (2, 2)), ((2, 2), (2, 2)), ((2, 3), (2, 3)), ((3, 2), (3, 2)), ((1, 2), (1, 2)), ((1, 0), (1, 0)), ((2, 2), (2, 2)), ((1, 1), (1, 1)), ((1, 1), (1, 1)), ((1, 1), (1, 1)), ((1, 1), (1, 1)), ((2, 3), (2, 3)), ((0, 1), (0, 1)), ((2, 1), (2, 1)), ((3, 1), (3, 1)), ((0, 2), (0, 2)), ((2, 0), (2, 0)), ((3, 1), (3, 1)), ((2, 3), (2, 3)), ((2, 0), (2, 0)), ((3, 0), (3, 0)), ((2, 2), (2, 2)), ((0, 0), (0, 0)), ((1, 1), (1, 1)), ((2, 2), (2, 2)), ((2, 2), (2, 2)), ((1, 3), (1, 3)), ((2, 1), (2, 1)), ((0, 3), (0, 3)), ((1, 2), (1, 2)), ((2, 2), (2, 2)), ((2, 3), (2, 3)), ((1, 0), (1, 0)), ((0, 1), (0, 1)), ((3, 1), (3, 1)), ((0, 0), (0, 0)), ((0, 0), (0, 0)), ((0, 3), (0, 3))]\n",
            "[((0, 0), [(0, 0), (0, 0), (0, 0), (0, 0), (0, 0), (0, 0), (0, 0), (0, 0)]), ((2, 0), [(2, 0), (2, 0), (2, 0), (2, 0), (2, 0), (2, 0), (2, 0), (2, 0), (2, 0)]), ((1, 3), [(1, 3), (1, 3), (1, 3), (1, 3)]), ((1, 1), [(1, 1), (1, 1), (1, 1), (1, 1), (1, 1), (1, 1), (1, 1), (1, 1)]), ((0, 3), [(0, 3), (0, 3), (0, 3), (0, 3), (0, 3), (0, 3)]), ((1, 2), [(1, 2), (1, 2), (1, 2), (1, 2), (1, 2)]), ((1, 0), [(1, 0), (1, 0), (1, 0), (1, 0), (1, 0), (1, 0), (1, 0)]), ((3, 1), [(3, 1), (3, 1), (3, 1), (3, 1), (3, 1), (3, 1), (3, 1), (3, 1)]), ((2, 3), [(2, 3), (2, 3), (2, 3), (2, 3), (2, 3), (2, 3)]), ((2, 1), [(2, 1), (2, 1), (2, 1), (2, 1), (2, 1), (2, 1)]), ((3, 0), [(3, 0), (3, 0), (3, 0), (3, 0), (3, 0), (3, 0), (3, 0)]), ((2, 2), [(2, 2), (2, 2), (2, 2), (2, 2), (2, 2), (2, 2), (2, 2), (2, 2), (2, 2), (2, 2), (2, 2)]), ((3, 3), [(3, 3), (3, 3), (3, 3), (3, 3), (3, 3), (3, 3)]), ((0, 2), [(0, 2), (0, 2), (0, 2)]), ((0, 1), [(0, 1), (0, 1), (0, 1), (0, 1), (0, 1)]), ((3, 2), [(3, 2)])]\n",
            "[]\n"
          ]
        }
      ]
    },
    {
      "cell_type": "markdown",
      "metadata": {
        "id": "AVOpqoY3wE5k"
      },
      "source": [
        "### Difference (Разница)\n",
        "\n",
        "**The Map Function:** Для кортежа $t \\in R$, создайте пару $(t, R)$, и для кортежа $t \\in S$, создайте пару $(t, S)$. Задумка заключается в том, чтобы значение пары было именем отношения $R$ or $S$, которому принадлежит кортеж (а лучше, единичный бит, по которому можно два отношения различить $R$ or $S$), а не весь набор атрибутов отношения.\n",
        "\n",
        "**The Reduce Function:** Для каждого ключа $t$, если соответствующее значение является списком $[R]$, создайте пару $(t, t)$. В иных случаях не предпринимайте действий."
      ]
    },
    {
      "cell_type": "code",
      "metadata": {
        "id": "QE_AC09lwZIZ",
        "colab": {
          "base_uri": "https://localhost:8080/"
        },
        "outputId": "78330ffc-4972-4ad7-a1da-5d3ad1f7508b"
      },
      "source": [
        "rels = [1, 2]  # Инициализация массива rels с элементами 1 и 2\n",
        "\n",
        "class Tuple:  # Определение класса Tuple для хранения данных и id представления\n",
        "    def __init__(self, data: tuple, rel_id: int):\n",
        "        self.data = data\n",
        "        self.rel_id = rel_id\n",
        "\n",
        "def get_random_tuple(count):\n",
        "    data = tuple([(random.randint(0, 3), random.randint(0, 3)) for i in range(count)])  # Генерация случайного кортежа данных\n",
        "    rel_id = rels[random.randint(0, len(rels) - 1)]  # Выбор случайного id представления из массива rels\n",
        "    return Tuple(data, rel_id)  # Возвращает экземпляр класса Tuple с данными и id представления\n",
        "\n",
        "def RECORDREADER(count):\n",
        "    return [get_random_tuple(3) for i in range(count)]  # Генерация списка случайных кортежей данных\n",
        "\n",
        "def MAP(t: Tuple):\n",
        "    return (t.data, t.rel_id)  # Функция MAP возвращает кортеж из данных и id представления\n",
        "\n",
        "def REDUCE(key, values: Iterator[NamedTuple]):\n",
        "    if values == [rels[0]]:  # Если значение соответствует первому элементу в массиве rels\n",
        "        return (key, key)  # Возвращает кортеж с ключом и значением равными ключу\n",
        "\n",
        "def group_by_key(iterable):\n",
        "    t = {}\n",
        "    for (k2, v2) in iterable:\n",
        "        t[k2] = t.get(k2, []) + [v2]  # Группировка значений по ключу k2\n",
        "    return t.items()  # Возвращает список кортежей (ключ, список значений)\n",
        "\n",
        "record = RECORDREADER(100)  # Генерация списка случайных кортежей данных\n",
        "\n",
        "map_output = list(map(lambda x: MAP(x), RECORDREADER(100)))  # Применение функции MAP к каждому элементу из RECORDREADER(100)\n",
        "print(map_output)\n",
        "\n",
        "shuffle_output = group_by_key(map_output)  # Группировка значений по ключу\n",
        "shuffle_output = list(shuffle_output)  # Преобразование результата в список\n",
        "print(shuffle_output)\n",
        "\n",
        "reduce_output = [el[0] for el in list(map(lambda x: REDUCE(*x), shuffle_output)) if el is not None]  # Применение функции REDUCE к результату группировки\n",
        "print(reduce_output)\n"
      ],
      "execution_count": 32,
      "outputs": [
        {
          "output_type": "stream",
          "name": "stdout",
          "text": [
            "[(((0, 0), (2, 2), (0, 0)), 2), (((1, 3), (2, 1), (0, 2)), 2), (((2, 1), (2, 2), (3, 0)), 2), (((2, 1), (3, 1), (2, 1)), 1), (((0, 0), (2, 1), (0, 1)), 1), (((3, 1), (0, 0), (3, 2)), 1), (((1, 3), (2, 0), (2, 0)), 2), (((1, 0), (3, 3), (3, 3)), 1), (((0, 1), (2, 2), (1, 0)), 1), (((0, 1), (2, 0), (3, 3)), 1), (((0, 3), (3, 3), (0, 2)), 1), (((1, 2), (1, 3), (2, 1)), 2), (((3, 2), (2, 3), (3, 1)), 1), (((2, 0), (1, 1), (2, 1)), 1), (((1, 1), (3, 2), (0, 3)), 2), (((3, 0), (1, 2), (2, 1)), 1), (((2, 1), (3, 3), (1, 0)), 2), (((0, 2), (2, 0), (3, 2)), 1), (((1, 3), (2, 0), (1, 0)), 2), (((3, 0), (2, 1), (0, 0)), 2), (((1, 3), (1, 0), (3, 0)), 2), (((2, 2), (2, 2), (3, 3)), 2), (((1, 2), (3, 2), (2, 3)), 1), (((3, 3), (2, 0), (3, 2)), 1), (((1, 1), (2, 0), (1, 3)), 2), (((3, 1), (1, 3), (0, 2)), 1), (((2, 1), (1, 2), (2, 3)), 2), (((3, 1), (3, 1), (3, 2)), 1), (((2, 1), (0, 0), (3, 2)), 2), (((1, 3), (2, 3), (0, 3)), 2), (((1, 0), (0, 1), (2, 3)), 1), (((1, 0), (0, 2), (0, 3)), 1), (((0, 1), (0, 0), (0, 2)), 1), (((3, 1), (0, 3), (1, 1)), 2), (((1, 1), (2, 1), (3, 3)), 2), (((2, 1), (1, 2), (2, 2)), 1), (((2, 0), (2, 1), (1, 0)), 1), (((1, 2), (3, 2), (3, 2)), 2), (((0, 3), (0, 3), (2, 3)), 1), (((3, 2), (1, 3), (2, 0)), 2), (((1, 3), (1, 3), (1, 1)), 2), (((2, 0), (0, 0), (2, 3)), 1), (((2, 0), (2, 0), (3, 0)), 2), (((3, 2), (2, 3), (2, 1)), 1), (((2, 2), (2, 2), (0, 2)), 1), (((0, 0), (0, 1), (2, 2)), 1), (((0, 0), (0, 2), (1, 1)), 1), (((2, 1), (2, 0), (3, 0)), 2), (((1, 0), (1, 1), (1, 0)), 1), (((2, 1), (3, 1), (2, 2)), 1), (((3, 3), (0, 0), (3, 3)), 2), (((0, 0), (3, 3), (0, 0)), 1), (((3, 1), (1, 1), (0, 0)), 1), (((0, 2), (0, 0), (0, 0)), 2), (((1, 2), (0, 1), (3, 2)), 1), (((1, 3), (2, 1), (3, 0)), 1), (((2, 2), (1, 0), (1, 2)), 1), (((3, 2), (3, 0), (0, 1)), 1), (((3, 0), (3, 1), (0, 1)), 1), (((1, 2), (1, 3), (3, 3)), 2), (((3, 2), (0, 0), (0, 0)), 1), (((3, 2), (2, 0), (2, 1)), 2), (((3, 2), (1, 2), (0, 3)), 1), (((2, 2), (2, 2), (2, 1)), 2), (((1, 2), (0, 2), (0, 0)), 1), (((2, 3), (2, 0), (0, 0)), 1), (((2, 3), (1, 0), (3, 0)), 2), (((1, 1), (1, 3), (3, 2)), 2), (((1, 3), (0, 0), (3, 3)), 2), (((2, 1), (2, 3), (3, 2)), 1), (((2, 3), (3, 0), (1, 0)), 1), (((0, 3), (0, 3), (3, 0)), 1), (((1, 0), (1, 1), (3, 3)), 1), (((1, 3), (1, 2), (2, 0)), 2), (((2, 1), (1, 0), (2, 0)), 2), (((0, 2), (1, 2), (0, 2)), 1), (((1, 2), (0, 0), (3, 2)), 2), (((1, 0), (0, 0), (1, 1)), 2), (((0, 1), (2, 1), (0, 2)), 2), (((3, 1), (3, 0), (1, 2)), 2), (((2, 0), (2, 0), (1, 0)), 1), (((2, 2), (3, 2), (3, 3)), 1), (((3, 2), (2, 1), (0, 3)), 2), (((2, 0), (2, 1), (3, 3)), 1), (((0, 2), (3, 0), (1, 2)), 1), (((2, 0), (0, 2), (2, 2)), 2), (((2, 3), (2, 0), (2, 3)), 2), (((0, 0), (0, 2), (0, 1)), 1), (((3, 0), (0, 1), (0, 1)), 1), (((1, 1), (3, 1), (0, 3)), 1), (((3, 2), (1, 0), (1, 2)), 2), (((2, 0), (0, 2), (3, 2)), 1), (((1, 0), (1, 0), (1, 0)), 2), (((0, 0), (3, 0), (3, 1)), 1), (((3, 3), (3, 1), (2, 3)), 2), (((1, 1), (2, 2), (3, 1)), 1), (((2, 0), (3, 0), (3, 3)), 1), (((2, 1), (3, 1), (0, 0)), 1), (((2, 3), (2, 2), (0, 0)), 2), (((0, 3), (1, 1), (2, 0)), 2)]\n",
            "[(((0, 0), (2, 2), (0, 0)), [2]), (((1, 3), (2, 1), (0, 2)), [2]), (((2, 1), (2, 2), (3, 0)), [2]), (((2, 1), (3, 1), (2, 1)), [1]), (((0, 0), (2, 1), (0, 1)), [1]), (((3, 1), (0, 0), (3, 2)), [1]), (((1, 3), (2, 0), (2, 0)), [2]), (((1, 0), (3, 3), (3, 3)), [1]), (((0, 1), (2, 2), (1, 0)), [1]), (((0, 1), (2, 0), (3, 3)), [1]), (((0, 3), (3, 3), (0, 2)), [1]), (((1, 2), (1, 3), (2, 1)), [2]), (((3, 2), (2, 3), (3, 1)), [1]), (((2, 0), (1, 1), (2, 1)), [1]), (((1, 1), (3, 2), (0, 3)), [2]), (((3, 0), (1, 2), (2, 1)), [1]), (((2, 1), (3, 3), (1, 0)), [2]), (((0, 2), (2, 0), (3, 2)), [1]), (((1, 3), (2, 0), (1, 0)), [2]), (((3, 0), (2, 1), (0, 0)), [2]), (((1, 3), (1, 0), (3, 0)), [2]), (((2, 2), (2, 2), (3, 3)), [2]), (((1, 2), (3, 2), (2, 3)), [1]), (((3, 3), (2, 0), (3, 2)), [1]), (((1, 1), (2, 0), (1, 3)), [2]), (((3, 1), (1, 3), (0, 2)), [1]), (((2, 1), (1, 2), (2, 3)), [2]), (((3, 1), (3, 1), (3, 2)), [1]), (((2, 1), (0, 0), (3, 2)), [2]), (((1, 3), (2, 3), (0, 3)), [2]), (((1, 0), (0, 1), (2, 3)), [1]), (((1, 0), (0, 2), (0, 3)), [1]), (((0, 1), (0, 0), (0, 2)), [1]), (((3, 1), (0, 3), (1, 1)), [2]), (((1, 1), (2, 1), (3, 3)), [2]), (((2, 1), (1, 2), (2, 2)), [1]), (((2, 0), (2, 1), (1, 0)), [1]), (((1, 2), (3, 2), (3, 2)), [2]), (((0, 3), (0, 3), (2, 3)), [1]), (((3, 2), (1, 3), (2, 0)), [2]), (((1, 3), (1, 3), (1, 1)), [2]), (((2, 0), (0, 0), (2, 3)), [1]), (((2, 0), (2, 0), (3, 0)), [2]), (((3, 2), (2, 3), (2, 1)), [1]), (((2, 2), (2, 2), (0, 2)), [1]), (((0, 0), (0, 1), (2, 2)), [1]), (((0, 0), (0, 2), (1, 1)), [1]), (((2, 1), (2, 0), (3, 0)), [2]), (((1, 0), (1, 1), (1, 0)), [1]), (((2, 1), (3, 1), (2, 2)), [1]), (((3, 3), (0, 0), (3, 3)), [2]), (((0, 0), (3, 3), (0, 0)), [1]), (((3, 1), (1, 1), (0, 0)), [1]), (((0, 2), (0, 0), (0, 0)), [2]), (((1, 2), (0, 1), (3, 2)), [1]), (((1, 3), (2, 1), (3, 0)), [1]), (((2, 2), (1, 0), (1, 2)), [1]), (((3, 2), (3, 0), (0, 1)), [1]), (((3, 0), (3, 1), (0, 1)), [1]), (((1, 2), (1, 3), (3, 3)), [2]), (((3, 2), (0, 0), (0, 0)), [1]), (((3, 2), (2, 0), (2, 1)), [2]), (((3, 2), (1, 2), (0, 3)), [1]), (((2, 2), (2, 2), (2, 1)), [2]), (((1, 2), (0, 2), (0, 0)), [1]), (((2, 3), (2, 0), (0, 0)), [1]), (((2, 3), (1, 0), (3, 0)), [2]), (((1, 1), (1, 3), (3, 2)), [2]), (((1, 3), (0, 0), (3, 3)), [2]), (((2, 1), (2, 3), (3, 2)), [1]), (((2, 3), (3, 0), (1, 0)), [1]), (((0, 3), (0, 3), (3, 0)), [1]), (((1, 0), (1, 1), (3, 3)), [1]), (((1, 3), (1, 2), (2, 0)), [2]), (((2, 1), (1, 0), (2, 0)), [2]), (((0, 2), (1, 2), (0, 2)), [1]), (((1, 2), (0, 0), (3, 2)), [2]), (((1, 0), (0, 0), (1, 1)), [2]), (((0, 1), (2, 1), (0, 2)), [2]), (((3, 1), (3, 0), (1, 2)), [2]), (((2, 0), (2, 0), (1, 0)), [1]), (((2, 2), (3, 2), (3, 3)), [1]), (((3, 2), (2, 1), (0, 3)), [2]), (((2, 0), (2, 1), (3, 3)), [1]), (((0, 2), (3, 0), (1, 2)), [1]), (((2, 0), (0, 2), (2, 2)), [2]), (((2, 3), (2, 0), (2, 3)), [2]), (((0, 0), (0, 2), (0, 1)), [1]), (((3, 0), (0, 1), (0, 1)), [1]), (((1, 1), (3, 1), (0, 3)), [1]), (((3, 2), (1, 0), (1, 2)), [2]), (((2, 0), (0, 2), (3, 2)), [1]), (((1, 0), (1, 0), (1, 0)), [2]), (((0, 0), (3, 0), (3, 1)), [1]), (((3, 3), (3, 1), (2, 3)), [2]), (((1, 1), (2, 2), (3, 1)), [1]), (((2, 0), (3, 0), (3, 3)), [1]), (((2, 1), (3, 1), (0, 0)), [1]), (((2, 3), (2, 2), (0, 0)), [2]), (((0, 3), (1, 1), (2, 0)), [2])]\n",
            "[((2, 1), (3, 1), (2, 1)), ((0, 0), (2, 1), (0, 1)), ((3, 1), (0, 0), (3, 2)), ((1, 0), (3, 3), (3, 3)), ((0, 1), (2, 2), (1, 0)), ((0, 1), (2, 0), (3, 3)), ((0, 3), (3, 3), (0, 2)), ((3, 2), (2, 3), (3, 1)), ((2, 0), (1, 1), (2, 1)), ((3, 0), (1, 2), (2, 1)), ((0, 2), (2, 0), (3, 2)), ((1, 2), (3, 2), (2, 3)), ((3, 3), (2, 0), (3, 2)), ((3, 1), (1, 3), (0, 2)), ((3, 1), (3, 1), (3, 2)), ((1, 0), (0, 1), (2, 3)), ((1, 0), (0, 2), (0, 3)), ((0, 1), (0, 0), (0, 2)), ((2, 1), (1, 2), (2, 2)), ((2, 0), (2, 1), (1, 0)), ((0, 3), (0, 3), (2, 3)), ((2, 0), (0, 0), (2, 3)), ((3, 2), (2, 3), (2, 1)), ((2, 2), (2, 2), (0, 2)), ((0, 0), (0, 1), (2, 2)), ((0, 0), (0, 2), (1, 1)), ((1, 0), (1, 1), (1, 0)), ((2, 1), (3, 1), (2, 2)), ((0, 0), (3, 3), (0, 0)), ((3, 1), (1, 1), (0, 0)), ((1, 2), (0, 1), (3, 2)), ((1, 3), (2, 1), (3, 0)), ((2, 2), (1, 0), (1, 2)), ((3, 2), (3, 0), (0, 1)), ((3, 0), (3, 1), (0, 1)), ((3, 2), (0, 0), (0, 0)), ((3, 2), (1, 2), (0, 3)), ((1, 2), (0, 2), (0, 0)), ((2, 3), (2, 0), (0, 0)), ((2, 1), (2, 3), (3, 2)), ((2, 3), (3, 0), (1, 0)), ((0, 3), (0, 3), (3, 0)), ((1, 0), (1, 1), (3, 3)), ((0, 2), (1, 2), (0, 2)), ((2, 0), (2, 0), (1, 0)), ((2, 2), (3, 2), (3, 3)), ((2, 0), (2, 1), (3, 3)), ((0, 2), (3, 0), (1, 2)), ((0, 0), (0, 2), (0, 1)), ((3, 0), (0, 1), (0, 1)), ((1, 1), (3, 1), (0, 3)), ((2, 0), (0, 2), (3, 2)), ((0, 0), (3, 0), (3, 1)), ((1, 1), (2, 2), (3, 1)), ((2, 0), (3, 0), (3, 3)), ((2, 1), (3, 1), (0, 0))]\n"
          ]
        }
      ]
    },
    {
      "cell_type": "markdown",
      "metadata": {
        "id": "j8I58V2VwhSm"
      },
      "source": [
        "### Natural Join\n",
        "\n",
        "**The Map Function:** Для каждого кортежа $(a, b)$ отношения $R$, создайте пару $(b,(R, a))$. Для каждого кортежа $(b, c)$ отношения $S$, создайте пару $(b,(S, c))$.\n",
        "\n",
        "**The Reduce Function:** Каждый ключ $b$ будет асоциирован со списком пар, которые принимают форму либо $(R, a)$, либо $(S, c)$. Создайте все пары, одни, состоящие из  первого компонента $R$, а другие, из первого компонента $S$, то есть $(R, a)$ и $(S, c)$. На выходе вы получаете последовательность пар ключ-значение из списков ключей и значений. Ключ не нужен. Каждое значение, это тройка $(a, b, c)$ такая, что $(R, a)$ и $(S, c)$ это принадлежат входному списку значений."
      ]
    },
    {
      "cell_type": "code",
      "metadata": {
        "id": "yHiuuTctw86I",
        "colab": {
          "base_uri": "https://localhost:8080/"
        },
        "outputId": "b4980394-166d-4a1a-b954-3ece099c9ae2"
      },
      "source": [
        "rels = [1, 2]  # Инициализация списка идентификаторов связей\n",
        "\n",
        "class Tuple:  # Определение класса кортежа, хранящего данные и идентификатор связи из массива rels выше\n",
        "  def __init__(self, data: tuple, rel_id: int):\n",
        "    self.data = data\n",
        "    self.rel_id = rel_id\n",
        "\n",
        "def get_random_tuple():  # Функция для генерации случайного кортежа с данными и идентификатором связи\n",
        "  data = (random.randint(0, 3), random.randint(0, 3))\n",
        "  rel_id = rels[random.randint(0, len(rels) - 1)]\n",
        "  return Tuple(data, rel_id)\n",
        "\n",
        "def RECORDREADER(count):  # Функция для создания списка случайных кортежей заданного количества\n",
        "  return [get_random_tuple() for i in range(count)]\n",
        "\n",
        "def MAP(t: Tuple):  # Функция для преобразования данных кортежа в соответствии с условием\n",
        "  if t.rel_id == rels[0]:\n",
        "    return (t.data[1], (t.rel_id, t.data[0]))\n",
        "  else:\n",
        "    return (t.data[0], (t.rel_id, t.data[1]))\n",
        "\n",
        "def REDUCE(key, values: Iterator[NamedTuple]):  # Функция для объединения данных по ключу\n",
        "  res = []\n",
        "  for v in values:\n",
        "    res.append((v[0], key, v[1]))\n",
        "  return res\n",
        "\n",
        "def group_by_key(iterable):  # Функция для группировки данных по ключу\n",
        "  t = {}\n",
        "  for (k2, v2) in iterable:\n",
        "    t[k2] = t.get(k2, []) + [v2]\n",
        "  return t.items()\n",
        "\n",
        "record = RECORDREADER(100)  # Создание списка случайных кортежей\n",
        "\n",
        "map_output = list(map(lambda x: MAP(x), RECORDREADER(100)))  # Применение функции MAP к каждому элементу\n",
        "print(map_output)\n",
        "\n",
        "shuffle_output = group_by_key(map_output)  # Группировка данных по ключу\n",
        "shuffle_output = list(shuffle_output)\n",
        "print(shuffle_output)\n",
        "\n",
        "reduce_output = list(map(lambda x: REDUCE(*x), shuffle_output))  # Применение функции REDUCE к каждой группе\n",
        "print(reduce_output)\n"
      ],
      "execution_count": 34,
      "outputs": [
        {
          "output_type": "stream",
          "name": "stdout",
          "text": [
            "[(2, (1, 1)), (2, (2, 3)), (2, (2, 2)), (1, (1, 1)), (2, (1, 0)), (1, (1, 0)), (1, (1, 2)), (3, (2, 3)), (1, (2, 2)), (3, (1, 2)), (3, (2, 0)), (3, (2, 3)), (0, (2, 1)), (1, (2, 3)), (0, (2, 2)), (2, (1, 2)), (1, (2, 1)), (2, (2, 1)), (0, (1, 3)), (3, (2, 2)), (2, (1, 2)), (2, (1, 0)), (3, (2, 0)), (0, (2, 1)), (3, (2, 3)), (2, (2, 2)), (0, (2, 1)), (2, (1, 0)), (0, (1, 2)), (3, (1, 0)), (0, (2, 3)), (0, (1, 2)), (3, (1, 2)), (2, (2, 1)), (0, (1, 3)), (3, (2, 1)), (1, (2, 3)), (2, (2, 0)), (0, (1, 1)), (0, (2, 3)), (0, (2, 2)), (2, (2, 1)), (0, (1, 1)), (2, (2, 1)), (3, (1, 1)), (1, (1, 3)), (1, (2, 0)), (0, (2, 3)), (0, (2, 2)), (2, (2, 0)), (3, (2, 2)), (1, (1, 1)), (0, (1, 1)), (0, (2, 3)), (2, (2, 0)), (3, (1, 1)), (2, (1, 0)), (1, (2, 0)), (2, (1, 1)), (3, (2, 2)), (2, (1, 0)), (1, (1, 2)), (1, (1, 0)), (0, (2, 1)), (0, (2, 3)), (2, (1, 0)), (3, (1, 2)), (1, (2, 2)), (1, (1, 0)), (2, (2, 3)), (2, (2, 1)), (0, (1, 0)), (2, (1, 0)), (1, (1, 0)), (0, (1, 3)), (1, (1, 1)), (1, (2, 3)), (2, (1, 3)), (1, (1, 0)), (3, (1, 0)), (2, (2, 3)), (2, (1, 3)), (3, (1, 3)), (0, (1, 2)), (1, (2, 3)), (0, (1, 2)), (2, (2, 1)), (1, (2, 2)), (1, (2, 3)), (0, (1, 3)), (1, (1, 3)), (3, (1, 1)), (3, (1, 0)), (3, (2, 0)), (3, (2, 0)), (3, (2, 3)), (0, (1, 1)), (0, (2, 0)), (0, (1, 1)), (0, (1, 2))]\n",
            "[(2, [(1, 1), (2, 3), (2, 2), (1, 0), (1, 2), (2, 1), (1, 2), (1, 0), (2, 2), (1, 0), (2, 1), (2, 0), (2, 1), (2, 1), (2, 0), (2, 0), (1, 0), (1, 1), (1, 0), (1, 0), (2, 3), (2, 1), (1, 0), (1, 3), (2, 3), (1, 3), (2, 1)]), (1, [(1, 1), (1, 0), (1, 2), (2, 2), (2, 3), (2, 1), (2, 3), (1, 3), (2, 0), (1, 1), (2, 0), (1, 2), (1, 0), (2, 2), (1, 0), (1, 0), (1, 1), (2, 3), (1, 0), (2, 3), (2, 2), (2, 3), (1, 3)]), (3, [(2, 3), (1, 2), (2, 0), (2, 3), (2, 2), (2, 0), (2, 3), (1, 0), (1, 2), (2, 1), (1, 1), (2, 2), (1, 1), (2, 2), (1, 2), (1, 0), (1, 3), (1, 1), (1, 0), (2, 0), (2, 0), (2, 3)]), (0, [(2, 1), (2, 2), (1, 3), (2, 1), (2, 1), (1, 2), (2, 3), (1, 2), (1, 3), (1, 1), (2, 3), (2, 2), (1, 1), (2, 3), (2, 2), (1, 1), (2, 3), (2, 1), (2, 3), (1, 0), (1, 3), (1, 2), (1, 2), (1, 3), (1, 1), (2, 0), (1, 1), (1, 2)])]\n",
            "[[(1, 2, 1), (2, 2, 3), (2, 2, 2), (1, 2, 0), (1, 2, 2), (2, 2, 1), (1, 2, 2), (1, 2, 0), (2, 2, 2), (1, 2, 0), (2, 2, 1), (2, 2, 0), (2, 2, 1), (2, 2, 1), (2, 2, 0), (2, 2, 0), (1, 2, 0), (1, 2, 1), (1, 2, 0), (1, 2, 0), (2, 2, 3), (2, 2, 1), (1, 2, 0), (1, 2, 3), (2, 2, 3), (1, 2, 3), (2, 2, 1)], [(1, 1, 1), (1, 1, 0), (1, 1, 2), (2, 1, 2), (2, 1, 3), (2, 1, 1), (2, 1, 3), (1, 1, 3), (2, 1, 0), (1, 1, 1), (2, 1, 0), (1, 1, 2), (1, 1, 0), (2, 1, 2), (1, 1, 0), (1, 1, 0), (1, 1, 1), (2, 1, 3), (1, 1, 0), (2, 1, 3), (2, 1, 2), (2, 1, 3), (1, 1, 3)], [(2, 3, 3), (1, 3, 2), (2, 3, 0), (2, 3, 3), (2, 3, 2), (2, 3, 0), (2, 3, 3), (1, 3, 0), (1, 3, 2), (2, 3, 1), (1, 3, 1), (2, 3, 2), (1, 3, 1), (2, 3, 2), (1, 3, 2), (1, 3, 0), (1, 3, 3), (1, 3, 1), (1, 3, 0), (2, 3, 0), (2, 3, 0), (2, 3, 3)], [(2, 0, 1), (2, 0, 2), (1, 0, 3), (2, 0, 1), (2, 0, 1), (1, 0, 2), (2, 0, 3), (1, 0, 2), (1, 0, 3), (1, 0, 1), (2, 0, 3), (2, 0, 2), (1, 0, 1), (2, 0, 3), (2, 0, 2), (1, 0, 1), (2, 0, 3), (2, 0, 1), (2, 0, 3), (1, 0, 0), (1, 0, 3), (1, 0, 2), (1, 0, 2), (1, 0, 3), (1, 0, 1), (2, 0, 0), (1, 0, 1), (1, 0, 2)]]\n"
          ]
        }
      ]
    },
    {
      "cell_type": "markdown",
      "metadata": {
        "id": "kYdlr0YUxE27"
      },
      "source": [
        "### Grouping and Aggregation (Группировка и аггрегация)\n",
        "\n",
        "**The Map Function:** Для каждого кортежа $(a, b, c$) создайте пару $(a, b)$.\n",
        "\n",
        "**The Reduce Function:** Ключ представляет ту или иную группу. Примение аггрегирующую операцию $\\theta$ к списку значений $[b1, b2, . . . , bn]$ ассоциированных с ключом $a$. Возвращайте в выходной поток $(a, x)$, где $x$ результат применения  $\\theta$ к списку. Например, если $\\theta$ это $SUM$, тогда $x = b1 + b2 + · · · + bn$, а если $\\theta$ is $MAX$, тогда $x$ это максимальное из значений $b1, b2, . . . , bn$."
      ]
    },
    {
      "cell_type": "code",
      "metadata": {
        "id": "MLPckfEGxico",
        "colab": {
          "base_uri": "https://localhost:8080/"
        },
        "outputId": "f765e71e-5efe-4aff-88c5-9926280d353f"
      },
      "source": [
        "def get_random_tuple():  # Функция для генерации случайного кортежа с тремя случайными значениями от 0 до 3\n",
        "  return (random.randint(0, 3), random.randint(0, 3), random.randint(0, 3))\n",
        "\n",
        "def RECORDREADER(count):  # Функция для создания списка случайных кортежей заданного количества\n",
        "  return [get_random_tuple() for i in range(count)]\n",
        "\n",
        "def MAP(t: Tuple):  # Функция для преобразования входного кортежа, возвращающая первые два элемента кортежа\n",
        "  return (t[0], t[1])\n",
        "\n",
        "def tetta(values):  # Функция для вычисления суммы значений в переданном списке\n",
        "  return sum(values)\n",
        "\n",
        "def REDUCE(key, values: Iterator[NamedTuple]):  # Функция для вычисления суммы значений в переданных значениях и возврата пары (ключ, сумма)\n",
        "  x = tetta(values)\n",
        "  return (key, x)\n",
        "\n",
        "def group_by_key(iterable):  # Функция для группировки данных по ключу\n",
        "  t = {}\n",
        "  for (k2, v2) in iterable:\n",
        "    t[k2] = t.get(k2, []) + [v2]\n",
        "  return t.items()\n",
        "\n",
        "record = RECORDREADER(100)  # Создание списка случайных кортежей\n",
        "\n",
        "map_output = list(map(lambda x: MAP(x), RECORDREADER(100)))  # Применение функции MAP к каждому элементу\n",
        "print(map_output)\n",
        "\n",
        "shuffle_output = group_by_key(map_output)  # Группировка данных по ключу\n",
        "shuffle_output = list(shuffle_output)\n",
        "print(shuffle_output)\n",
        "\n",
        "reduce_output = list(map(lambda x: REDUCE(*x), shuffle_output))  # Применение функции REDUCE к каждой группе\n",
        "print(reduce_output)\n"
      ],
      "execution_count": 35,
      "outputs": [
        {
          "output_type": "stream",
          "name": "stdout",
          "text": [
            "[(1, 2), (1, 2), (1, 0), (3, 0), (0, 3), (0, 2), (0, 2), (2, 1), (0, 0), (3, 2), (2, 3), (1, 0), (2, 0), (2, 1), (2, 2), (2, 0), (3, 2), (3, 2), (2, 0), (0, 3), (1, 3), (2, 3), (3, 0), (2, 3), (3, 2), (1, 3), (1, 2), (0, 2), (1, 1), (0, 2), (3, 3), (3, 0), (0, 0), (1, 3), (1, 0), (3, 1), (1, 0), (0, 3), (1, 2), (0, 0), (1, 2), (2, 0), (2, 1), (0, 1), (3, 3), (0, 1), (3, 2), (3, 0), (0, 2), (0, 1), (2, 3), (3, 3), (1, 3), (2, 1), (2, 2), (3, 2), (3, 1), (1, 3), (0, 1), (1, 2), (2, 0), (1, 1), (3, 3), (2, 2), (3, 0), (3, 3), (1, 0), (3, 3), (1, 2), (0, 0), (3, 1), (0, 0), (3, 2), (1, 0), (2, 2), (2, 2), (1, 0), (3, 3), (0, 1), (2, 2), (3, 1), (2, 3), (1, 1), (0, 1), (0, 2), (2, 3), (3, 3), (3, 0), (2, 1), (0, 1), (3, 1), (2, 2), (1, 3), (3, 1), (3, 3), (1, 3), (0, 2), (2, 0), (3, 1), (0, 3)]\n",
            "[(1, [2, 2, 0, 0, 3, 3, 2, 1, 3, 0, 0, 2, 2, 3, 3, 2, 1, 0, 2, 0, 0, 1, 3, 3]), (3, [0, 2, 2, 2, 0, 2, 3, 0, 1, 3, 2, 0, 3, 2, 1, 3, 0, 3, 3, 1, 2, 3, 1, 3, 0, 1, 1, 3, 1]), (0, [3, 2, 2, 0, 3, 2, 2, 0, 3, 0, 1, 1, 2, 1, 1, 0, 0, 1, 1, 2, 1, 2, 3]), (2, [1, 3, 0, 1, 2, 0, 0, 3, 3, 0, 1, 3, 1, 2, 0, 2, 2, 2, 2, 3, 3, 1, 2, 0])]\n",
            "[(1, 38), (3, 48), (0, 33), (2, 37)]\n"
          ]
        }
      ]
    },
    {
      "cell_type": "markdown",
      "metadata": {
        "id": "03IffTEOJgOb"
      },
      "source": [
        "#"
      ]
    },
    {
      "cell_type": "markdown",
      "metadata": {
        "id": "IIrRgvG4RIS4"
      },
      "source": [
        "### Matrix-Vector multiplication\n",
        "\n",
        "Случай, когда вектор не помещается в памяти Map задачи\n"
      ]
    },
    {
      "cell_type": "code",
      "metadata": {
        "id": "KQhDbiL3zS9r"
      },
      "source": [],
      "execution_count": null,
      "outputs": []
    },
    {
      "cell_type": "markdown",
      "metadata": {
        "id": "GIo2t7nNxvA9"
      },
      "source": [
        "## Matrix multiplication (Перемножение матриц)\n",
        "\n",
        "Если у нас есть матрица $M$ с элементами $m_{ij}$ в строке $i$ и столбце $j$, и матрица $N$ с элементами $n_{jk}$ в строке $j$ и столбце $k$, тогда их произведение $P = MN$ есть матрица $P$ с элементами $p_{ik}$ в строке $i$ и столбце $k$, где\n",
        "\n",
        "$$p_{ik} =\\sum_{j} m_{ij}n_{jk}$$\n",
        "\n",
        "Необходимым требованием является одинаковое количество столбцов в $M$ и строк в $N$, чтобы операция суммирования по  $j$ была осмысленной. Мы можем размышлять о матрице, как об отношении с тремя атрибутами: номер строки, номер столбца, само значение. Таким образом матрица $M$ предстваляется как отношение $ M(I, J, V )$, с кортежами $(i, j, m_{ij})$, и, аналогично, матрица $N$ представляется как отношение $N(J, K, W)$, с кортежами $(j, k, n_{jk})$. Так как большие матрицы как правило разреженные (большинство значений равно 0), и так как мы можем нулевыми значениями пренебречь (не хранить), такое реляционное представление достаточно эффективно для больших матриц. Однако, возможно, что координаты $i$, $j$, и $k$ неявно закодированы в смещение позиции элемента относительно начала файла, вместо явного хранения. Тогда, функция Map (или Reader) должна быть разработана таким образом, чтобы реконструировать компоненты $I$, $J$, и $K$ кортежей из смещения.\n",
        "\n",
        "Произведение $MN$ это фактически join, за которым следуют группировка по ключу и аггрегация. Таким образом join отношений $M(I, J, V )$ и $N(J, K, W)$, имеющих общим только атрибут $J$, создаст кортежи $(i, j, k, v, w)$ из каждого кортежа $(i, j, v) \\in M$ и кортежа $(j, k, w) \\in N$. Такой 5 компонентный кортеж представляет пару элементов матрицы $(m_{ij} , n_{jk})$. Что нам хотелось бы получить на самом деле, это произведение этих элементов, то есть, 4 компонентный кортеж$(i, j, k, v \\times w)$, так как он представляет произведение $m_{ij}n_{jk}$. Мы представляем отношение как результат одной MapReduce операции, в которой мы можем произвести группировку и аггрегацию, с $I$ и $K$  атрибутами, по которым идёт группировка, и суммой  $V \\times W$.\n",
        "\n",
        "\n",
        "\n"
      ]
    },
    {
      "cell_type": "code",
      "metadata": {
        "id": "1MBkGaLAYVCt"
      },
      "source": [
        "# MapReduce model\n",
        "def flatten(nested_iterable):\n",
        "  for iterable in nested_iterable:\n",
        "    for element in iterable:\n",
        "      yield element\n",
        "\n",
        "def groupbykey(iterable):\n",
        "  t = {}\n",
        "  for (k2, v2) in iterable:\n",
        "    t[k2] = t.get(k2, []) + [v2]\n",
        "  return t.items()\n",
        "\n",
        "def MapReduce(RECORDREADER, MAP, REDUCE):\n",
        "  return flatten(map(lambda x: REDUCE(*x), groupbykey(flatten(map(lambda x: MAP(*x), RECORDREADER())))))"
      ],
      "execution_count": 39,
      "outputs": []
    },
    {
      "cell_type": "markdown",
      "metadata": {
        "id": "sMspsOT0ZB35"
      },
      "source": [
        "Реализуйте перемножение матриц с использованием модельного кода MapReduce для одной машины в случае, когда одна матрица хранится в памяти, а другая генерируется RECORDREADER-ом."
      ]
    },
    {
      "cell_type": "code",
      "metadata": {
        "id": "psP1XekbsEjS"
      },
      "source": [
        "import numpy as np\n",
        "I = 2\n",
        "J = 3\n",
        "K = 4*10\n",
        "small_mat = np.random.rand(I,J) # it is legal to access this from RECORDREADER, MAP, REDUCE\n",
        "big_mat = np.random.rand(J,K)\n",
        "\n",
        "def RECORDREADER():\n",
        "  for j in range(big_mat.shape[0]):\n",
        "    for k in range(big_mat.shape[1]):\n",
        "      yield ((j, k), big_mat[j,k])\n",
        "\n",
        "def MAP(k1, v1):\n",
        "  (j, k) = k1\n",
        "  w = v1\n",
        "  for i in range(small_mat.shape[0]):\n",
        "    yield ((i, k), w * small_mat[i][j])\n",
        "\n",
        "def REDUCE(key, values):\n",
        "  (i, k) = key\n",
        "  el_value = 0\n",
        "  for v in values:\n",
        "    el_value += v\n",
        "  yield ((i, k), el_value)"
      ],
      "execution_count": 40,
      "outputs": []
    },
    {
      "cell_type": "markdown",
      "metadata": {
        "id": "rnt306LHhHrm"
      },
      "source": [
        "Проверьте своё решение"
      ]
    },
    {
      "cell_type": "code",
      "metadata": {
        "id": "Ewy_ZNYqW5a2",
        "colab": {
          "base_uri": "https://localhost:8080/"
        },
        "outputId": "e1bbf39a-36e7-4aab-9bcf-b66abccd4f7a"
      },
      "source": [
        "# CHECK THE SOLUTION\n",
        "reference_solution = np.matmul(small_mat, big_mat)\n",
        "solution = MapReduce(RECORDREADER, MAP, REDUCE)\n",
        "\n",
        "def asmatrix(reduce_output):\n",
        "  reduce_output = list(reduce_output)\n",
        "  I = max(i for ((i,k), vw) in reduce_output)+1\n",
        "  K = max(k for ((i,k), vw) in reduce_output)+1\n",
        "  mat = np.empty(shape=(I,K))\n",
        "  for ((i,k), vw) in reduce_output:\n",
        "    mat[i,k] = vw\n",
        "  return mat\n",
        "\n",
        "np.allclose(reference_solution, asmatrix(solution)) # should return true"
      ],
      "execution_count": 41,
      "outputs": [
        {
          "output_type": "execute_result",
          "data": {
            "text/plain": [
              "True"
            ]
          },
          "metadata": {},
          "execution_count": 41
        }
      ]
    },
    {
      "cell_type": "code",
      "metadata": {
        "id": "TK7v4CEcfxqf",
        "colab": {
          "base_uri": "https://localhost:8080/"
        },
        "outputId": "430aeadf-c683-4537-e1d1-de04d62d6782"
      },
      "source": [
        "reduce_output = list(MapReduce(RECORDREADER, MAP, REDUCE))\n",
        "max(i for ((i,k), vw) in reduce_output)"
      ],
      "execution_count": 42,
      "outputs": [
        {
          "output_type": "execute_result",
          "data": {
            "text/plain": [
              "1"
            ]
          },
          "metadata": {},
          "execution_count": 42
        }
      ]
    },
    {
      "cell_type": "markdown",
      "metadata": {
        "id": "i4yyg3kOZqJJ"
      },
      "source": [
        "Реализуйте перемножение матриц  с использованием модельного кода MapReduce для одной машины в случае, когда обе матрицы генерируются в RECORDREADER. Например, сначала одна, а потом другая."
      ]
    },
    {
      "cell_type": "code",
      "metadata": {
        "id": "3B7rIAJCaHZq",
        "colab": {
          "base_uri": "https://localhost:8080/"
        },
        "outputId": "f882e2f7-614e-427e-a149-33bf9112f1e5"
      },
      "source": [
        "import numpy as np  # Импорт библиотеки numpy под псевдонимом np\n",
        "I = 2  # Задание значения переменной I равным 2\n",
        "J = 3  # Задание значения переменной J равным 3\n",
        "K = 4*10  # Задание значения переменной K равным 40\n",
        "small_mat = np.random.rand(I,J)  # Создание случайной матрицы размером IxJ\n",
        "big_mat = np.random.rand(J,K)  # Создание случайной матрицы размером JxK\n",
        "reference_solution = np.matmul(small_mat, big_mat)  # Вычисление матричного произведения small_mat и big_mat\n",
        "\n",
        "def RECORDREADER():  # Определение функции RECORDREADER без аргументов\n",
        "  for i in range(small_mat.shape[0]):  # Цикл по строкам матрицы small_mat\n",
        "    for j in range(small_mat.shape[1]):  # Цикл по столбцам матрицы small_mat\n",
        "      yield ((0, i, j), small_mat[i,j])  # Генерация кортежа для первой матрицы\n",
        "\n",
        "  for j in range(big_mat.shape[0]):  # Цикл по строкам матрицы big_mat\n",
        "    for k in range(big_mat.shape[1]):  # Цикл по столбцам матрицы big_mat\n",
        "      yield ((1, j, k), big_mat[j,k])  # Генерация кортежа для второй матрицы\n",
        "\n",
        "def MAP_JOIN(k1, v1):  # Определение функции MAP_JOIN с ключем k1 и значением v1\n",
        "  (mat_num, i, j) = k1  # Распаковка ключа\n",
        "  w = v1  # Присвоение значения из значения\n",
        "  if mat_num == 0:  # Если номер матрицы равен 0\n",
        "    yield (j, (mat_num, i, w))  # Генерация значения для первой матрицы\n",
        "  else:  # Иначе\n",
        "    yield (i, (mat_num, j, w))  # Генерация значения для второй матрицы\n",
        "\n",
        "def REDUCE_JOIN(key, values):  # Определение функции REDUCE_JOIN с ключем key и значениями values\n",
        "  from_first_mat = [v for v in values if v[0] == 0]  # Фильтрация значений для первой матрицы\n",
        "  from_second_mat = [v for v in values if v[0] == 1]  # Фильтрация значений для второй матрицы\n",
        "  for f in from_first_mat:  # Цикл по элементам из первой матрицы\n",
        "    for s in from_second_mat:  # Цикл по элементам из второй матрицы\n",
        "      yield ((f[1], s[1]), f[2] * s[2])  # Генерация умноженных значений\n",
        "\n",
        "\n",
        "def MAP_MUL(k1, v1):  # Определение функции MAP_MUL с ключем k1 и значением v1\n",
        "  (i, k) = k1  # Распаковка ключа\n",
        "  yield ((i, k), v1)  # Генерация кортежа с ключом (i, k) и значением v1\n",
        "\n",
        "def REDUCE_MUL(key, values):  # Определение функции REDUCE_MUL с ключем key и значениями values\n",
        "  res_el_value = 0  # Инициализация переменной для хранения результата\n",
        "  for v in values:  # Цикл по значениям\n",
        "    res_el_value += v  # Суммирование значений\n",
        "  yield (key, res_el_value)  # Генерация кортежа с ключом key и суммой значений\n",
        "\n",
        "def GET_JOINED():  # Определение функции GET_JOINED без аргументов\n",
        "  for j in joined:  # Цикл по элементам из joined\n",
        "    yield j  # Генерация элемента\n",
        "\n",
        "\n",
        "joined = MapReduce(RECORDREADER, MAP_JOIN, REDUCE_JOIN)  # Применение MapReduce к функциям RECORDREADER, MAP_JOIN и REDUCE_JOIN\n",
        "solution = MapReduce(GET_JOINED, MAP_MUL, REDUCE_MUL)  # Применение MapReduce к функциям GET_JOINED, MAP_MUL и REDUCE_MUL\n",
        "np.allclose(reference_solution, asmatrix(solution))  # Проверка на равенство решения с эталонным значением и вывод результата (True/False)\n"
      ],
      "execution_count": 45,
      "outputs": [
        {
          "output_type": "execute_result",
          "data": {
            "text/plain": [
              "True"
            ]
          },
          "metadata": {},
          "execution_count": 45
        }
      ]
    },
    {
      "cell_type": "markdown",
      "metadata": {
        "id": "mXyzQi1DaIwo"
      },
      "source": [
        "Реализуйте перемножение матриц с использованием модельного кода MapReduce Distributed, когда каждая матрица генерируется в своём RECORDREADER."
      ]
    },
    {
      "cell_type": "code",
      "metadata": {
        "id": "TDM_s78Rb5eR",
        "colab": {
          "base_uri": "https://localhost:8080/"
        },
        "outputId": "e5d6e0be-c1a0-449c-feb1-32dc3c0aea5f"
      },
      "source": [
        "# Определение размеров матриц\n",
        "I = 2\n",
        "J = 3\n",
        "K = 4*10\n",
        "\n",
        "# Генерация случайных матриц\n",
        "small_mat = np.random.rand(I, J)\n",
        "big_mat = np.random.rand(J, K)\n",
        "\n",
        "# Получение эталонного решения через умножение матриц\n",
        "reference_solution = np.matmul(small_mat, big_mat)\n",
        "\n",
        "# Функция для \"разглаживания\" вложенных итерируемых объектов\n",
        "def flatten(nested_iterable):\n",
        "  for iterable in nested_iterable:\n",
        "    for element in iterable:\n",
        "      yield element\n",
        "\n",
        "# Функция для группировки элементов по ключу\n",
        "def groupbykey(iterable):\n",
        "  t = {}\n",
        "  for (k2, v2) in iterable:\n",
        "    t[k2] = t.get(k2, []) + [v2]\n",
        "  return t.items()\n",
        "\n",
        "# Функция для распределенной группировки элементов по ключу\n",
        "def groupbykey_distributed(map_partitions, PARTITIONER):\n",
        "  global reducers\n",
        "  partitions = [dict() for _ in range(reducers)]\n",
        "  for map_partition in map_partitions:\n",
        "    for (k2, v2) in map_partition:\n",
        "      p = partitions[PARTITIONER(k2)]\n",
        "      p[k2] = p.get(k2, []) + [v2]\n",
        "  return [(partition_id, sorted(partition.items(), key=lambda x: x[0])) for (partition_id, partition) in enumerate(partitions)]\n",
        "\n",
        "# Функция для определения разделителя (по ключу)\n",
        "def PARTITIONER(obj):\n",
        "  global reducers\n",
        "  return hash(obj) % reducers\n",
        "\n",
        "# Функция для выполнения MapReduce на распределенных данных\n",
        "def MapReduceDistributed(INPUTFORMAT, MAP, REDUCE, PARTITIONER=PARTITIONER, COMBINER=None):\n",
        "  # Разделение данных на части и применение MAP функции\n",
        "  map_partitions = map(lambda record_reader: flatten(map(lambda k1v1: MAP(*k1v1), record_reader)), INPUTFORMAT())\n",
        "\n",
        "  # Применение COMBINER (если есть)\n",
        "  if COMBINER != None:\n",
        "    map_partitions = map(lambda map_partition: flatten(map(lambda k2v2: COMBINER(*k2v2), groupbykey(map_partition))), map_partitions)\n",
        "\n",
        "  # Распределенная группировка данных по ключу (shuffle)\n",
        "  reduce_partitions = groupbykey_distributed(map_partitions, PARTITIONER)\n",
        "\n",
        "  # Применение REDUCE функции\n",
        "  reduce_outputs = map(lambda reduce_partition: (reduce_partition[0], flatten(map(lambda reduce_input_group: REDUCE(*reduce_input_group), reduce_partition[1]))), reduce_partitions)\n",
        "\n",
        "  print(\"{} key-value pairs were sent over a network.\".format(sum([len(vs) for (k,vs) in flatten([partition for (partition_id, partition) in reduce_partitions])])))\n",
        "  return reduce_outputs\n",
        "\n",
        "# Преобразование результата REDUCE в матрицу\n",
        "def asmatrix(reduce_output):\n",
        "  reduce_output = list(reduce_output)\n",
        "  I = max(i for ((i,k), vw) in reduce_output) + 1\n",
        "  K = max(k for ((i,k), vw) in reduce_output) + 1\n",
        "  mat = np.empty(shape=(I,K))\n",
        "  for ((i,k), vw) in reduce_output:\n",
        "    mat[i,k] = vw\n",
        "  return mat\n",
        "\n",
        "# Генератор для вводных данных\n",
        "def INPUTFORMAT():\n",
        "  first_mat = []\n",
        "  for i in range(small_mat.shape[0]):\n",
        "    for j in range(small_mat.shape[1]):\n",
        "      first_mat.append(((0, i, j), small_mat[i,j])) # первая матрица\n",
        "  yield first_mat\n",
        "\n",
        "  second_mat = []\n",
        "  for j in range(big_mat.shape[0]):\n",
        "    for k in range(big_mat.shape[1]):\n",
        "      second_mat.append(((1, j, k), big_mat[j,k])) # вторая матрица\n",
        "  yield second_mat\n",
        "\n",
        "# MAP функция для соединения матриц\n",
        "def MAP_JOIN(k1, v1):\n",
        "  (mat_num, i, j) = k1\n",
        "  w = v1\n",
        "  if mat_num == 0:\n",
        "    yield (j, (mat_num, i, w))\n",
        "  else:\n",
        "    yield (i, (mat_num, j, w))\n",
        "\n",
        "# REDUCE функция для соединения матриц\n",
        "def REDUCE_JOIN(key, values):\n",
        "  from_first_mat = [v for v in values if v[0] == 0]\n",
        "  from_second_mat = [v for v in values if v[0] == 1]\n",
        "  for f in from_first_mat:\n",
        "    for s in from_second_mat:\n",
        "      yield ((f[1], s[1]), f[2] * s[2])\n",
        "\n",
        "# Генератор для получения соединенных данных\n",
        "def GET_JOINED():\n",
        "  for j in joined:\n",
        "    print(\"aa\", j)\n",
        "    yield j[1]\n",
        "\n",
        "# MAP функция для умножения значений\n",
        "def MAP_MUL(k1, v1):\n",
        "  yield (k1, v1)\n",
        "\n",
        "# REDUCE функция для умножения значений\n",
        "def REDUCE_MUL(key, values):\n",
        "  res_val = 0\n",
        "  for v in values:\n",
        "    res_val += v\n",
        "  yield (key, res_val)\n",
        "\n",
        "maps = 4\n",
        "reducers = 2\n",
        "\n",
        "# Выполнение MapReduce для соединения матриц\n",
        "partitioned_output = MapReduceDistributed(INPUTFORMAT, MAP_JOIN, REDUCE_JOIN, COMBINER=None)\n",
        "joined = [(partition_id, list(partition)) for (partition_id, partition) in partitioned_output]\n",
        "print(joined)\n",
        "\n",
        "# Выполнение MapReduce для умножения значений\n",
        "mul_output = MapReduceDistributed(GET_JOINED, MAP_MUL, REDUCE_MUL, COMBINER=None)\n",
        "pre_result = [(partition_id, list(partition)) for (partition_id, partition) in mul_output]\n",
        "print(pre_result)\n",
        "\n",
        "solution = []\n",
        "for p in pre_result:\n",
        "  for v in p[1]:\n",
        "    solution.append(v)\n",
        "\n",
        "print(solution)\n",
        "\n",
        "# Проверка результата на соответствие эталонному решению\n",
        "np.allclose(reference_solution, asmatrix(solution))"
      ],
      "execution_count": 52,
      "outputs": [
        {
          "output_type": "stream",
          "name": "stdout",
          "text": [
            "126 key-value pairs were sent over a network.\n",
            "[(0, [((0, 0), 0.2537361864238587), ((0, 1), 0.22112861349117416), ((0, 2), 0.3558377106705493), ((0, 3), 0.17859496664487537), ((0, 4), 0.3485999444921442), ((0, 5), 0.20735754551562469), ((0, 6), 0.006672062688435702), ((0, 7), 0.21549615982385278), ((0, 8), 0.2981969500298829), ((0, 9), 0.046123607196346325), ((0, 10), 0.05169192255717443), ((0, 11), 0.1658368552316355), ((0, 12), 0.003934071715749017), ((0, 13), 0.10184886846039887), ((0, 14), 0.09270864527503789), ((0, 15), 0.03923937641781827), ((0, 16), 0.35808446043565156), ((0, 17), 0.19269698043918299), ((0, 18), 0.24915127982239696), ((0, 19), 0.06447635875373758), ((0, 20), 0.09979194932179429), ((0, 21), 0.15604023429641573), ((0, 22), 0.09524997045531196), ((0, 23), 0.007177136412836752), ((0, 24), 0.11384423002948471), ((0, 25), 0.13687301338112712), ((0, 26), 0.14008325781965403), ((0, 27), 0.3654564692339463), ((0, 28), 0.23597894611038717), ((0, 29), 0.2499986280560371), ((0, 30), 0.16108168653308996), ((0, 31), 0.3465774939902046), ((0, 32), 0.03208037164824631), ((0, 33), 0.278393165358442), ((0, 34), 0.2046396116876233), ((0, 35), 0.14528843384404458), ((0, 36), 0.12088224254499745), ((0, 37), 0.08939927366375422), ((0, 38), 0.34167196697492475), ((0, 39), 0.0685742760208816), ((1, 0), 0.10269784569488127), ((1, 1), 0.08950017160384141), ((1, 2), 0.14402268284200748), ((1, 3), 0.0722849924753707), ((1, 4), 0.14109325048692425), ((1, 5), 0.08392643364419451), ((1, 6), 0.0027004680495155216), ((1, 7), 0.08722047762024905), ((1, 8), 0.12069301108552312), ((1, 9), 0.018668189041152437), ((1, 10), 0.02092192351933797), ((1, 11), 0.06712124119597566), ((1, 12), 0.001592286444085216), ((1, 13), 0.04122257658539786), ((1, 14), 0.037523138820778276), ((1, 15), 0.015881847525637535), ((1, 16), 0.14493203820019845), ((1, 17), 0.07799267830862287), ((1, 18), 0.10084213864214028), ((1, 19), 0.026096329560175522), ((1, 20), 0.04039005376994737), ((1, 21), 0.06315613129456099), ((1, 22), 0.038551721400593396), ((1, 23), 0.00290489290567865), ((1, 24), 0.0460776105040461), ((1, 25), 0.055398340323943175), ((1, 26), 0.05669766302850987), ((1, 27), 0.14791580426328527), ((1, 28), 0.09551073394948166), ((1, 29), 0.10118509657563282), ((1, 30), 0.06519662181811291), ((1, 31), 0.14027467859735243), ((1, 32), 0.012984293268531033), ((1, 33), 0.1126775756404389), ((1, 34), 0.08282637001980192), ((1, 35), 0.058804419544801916), ((1, 36), 0.04892619404076472), ((1, 37), 0.03618369512584193), ((1, 38), 0.13828920280232443), ((1, 39), 0.02775493127994967), ((0, 0), 0.6002133520572139), ((0, 1), 0.3843317938295099), ((0, 2), 0.364074929453161), ((0, 3), 0.01533120531644024), ((0, 4), 0.401917599394888), ((0, 5), 0.12455534849040394), ((0, 6), 0.28397284064467077), ((0, 7), 0.3579265445022843), ((0, 8), 0.39304728145399537), ((0, 9), 0.16693300280757048), ((0, 10), 0.37060024157535604), ((0, 11), 0.6377816944008504), ((0, 12), 0.126558125448719), ((0, 13), 0.5858615526811625), ((0, 14), 0.07955659664295446), ((0, 15), 0.4916483779625771), ((0, 16), 0.43121994619389253), ((0, 17), 0.4565420361215981), ((0, 18), 0.386967857133171), ((0, 19), 0.36672035296798355), ((0, 20), 0.13189321016776892), ((0, 21), 0.17289225013036477), ((0, 22), 0.3271275732584177), ((0, 23), 0.09519522724045353), ((0, 24), 0.45885016885572366), ((0, 25), 0.5841040893262522), ((0, 26), 0.5067336589491476), ((0, 27), 0.1203407212089691), ((0, 28), 0.29822918533686693), ((0, 29), 0.15426213359334945), ((0, 30), 0.09801403596742024), ((0, 31), 0.5353985833485778), ((0, 32), 0.2828989386233493), ((0, 33), 0.21591608859871406), ((0, 34), 0.6549524079258296), ((0, 35), 0.6319810494732842), ((0, 36), 0.5199068764499372), ((0, 37), 0.16634026985821918), ((0, 38), 0.2903756088317556), ((0, 39), 0.4572873946299693), ((1, 0), 0.035185935248995916), ((1, 1), 0.022530444491888818), ((1, 2), 0.02134293888933774), ((1, 3), 0.0008987517450326681), ((1, 4), 0.023561366269626686), ((1, 5), 0.007301730979289699), ((1, 6), 0.016647163794590778), ((1, 7), 0.020982505929914297), ((1, 8), 0.023041367119930156), ((1, 9), 0.00978600993725933), ((1, 10), 0.021725468216657932), ((1, 11), 0.03738828089256517), ((1, 12), 0.007419138531340853), ((1, 13), 0.034344598611246155), ((1, 14), 0.004663797045692257), ((1, 15), 0.02882159807503934), ((1, 16), 0.02527913958069944), ((1, 17), 0.026763580760676003), ((1, 18), 0.02268497679677169), ((1, 19), 0.02149801991207688), ((1, 20), 0.00773189389546095), ((1, 21), 0.010135355198763284), ((1, 22), 0.019176996931808774), ((1, 23), 0.005580570792395107), ((1, 24), 0.02689888899507411), ((1, 25), 0.0342415719264908), ((1, 26), 0.02970593315053726), ((1, 27), 0.007054659496932736), ((1, 28), 0.01748290465158385), ((1, 29), 0.00904321342633203), ((1, 30), 0.00574581606893954), ((1, 31), 0.03138633924343533), ((1, 32), 0.01658420910213605), ((1, 33), 0.01265751500964049), ((1, 34), 0.03839486898694562), ((1, 35), 0.037048233280954704), ((1, 36), 0.030478178513648643), ((1, 37), 0.009751262521020855), ((1, 38), 0.01702250930477134), ((1, 39), 0.026807275450444146)]), (1, [((0, 0), 0.3849838755760411), ((0, 1), 0.5317223822174427), ((0, 2), 0.6416564995341869), ((0, 3), 0.2669142335109168), ((0, 4), 0.5771433936678994), ((0, 5), 0.5976570014155044), ((0, 6), 0.1768086482005214), ((0, 7), 0.3023506372093883), ((0, 8), 0.14811827085433393), ((0, 9), 0.17900324380039542), ((0, 10), 0.2747180139147318), ((0, 11), 0.5035541282199246), ((0, 12), 0.6397160229999239), ((0, 13), 0.1989033248020061), ((0, 14), 0.6381457914607139), ((0, 15), 0.1649769527552988), ((0, 16), 0.3057167301264411), ((0, 17), 0.11627054990879279), ((0, 18), 0.3381579776931247), ((0, 19), 0.4019097182630164), ((0, 20), 0.5381198108992039), ((0, 21), 0.48344577160961305), ((0, 22), 0.2558468875141866), ((0, 23), 0.5296441050074969), ((0, 24), 0.1501673513828832), ((0, 25), 0.5563545737548552), ((0, 26), 0.5623190251408461), ((0, 27), 0.5882869422893431), ((0, 28), 0.6501210686951521), ((0, 29), 0.5320835225395744), ((0, 30), 0.21887273899844015), ((0, 31), 0.19893470452903755), ((0, 32), 0.26360322341070347), ((0, 33), 0.12806722119775013), ((0, 34), 0.5253618595703137), ((0, 35), 0.30281380290325105), ((0, 36), 0.424663907057172), ((0, 37), 0.0875231124717843), ((0, 38), 0.10937562171227105), ((0, 39), 0.10544200973194806), ((1, 0), 0.0015006955657327584), ((1, 1), 0.002072693096563119), ((1, 2), 0.0025012244009797813), ((1, 3), 0.001040451385298795), ((1, 4), 0.002249747552084942), ((1, 5), 0.002329711109358476), ((1, 6), 0.0006892131623453336), ((1, 7), 0.0011785851027596665), ((1, 8), 0.0005773759535837971), ((1, 9), 0.000697767857994287), ((1, 10), 0.0010708710973722794), ((1, 11), 0.0019628911631567937), ((1, 12), 0.0024936602802071396), ((1, 13), 0.0007753398427226218), ((1, 14), 0.0024875394017559566), ((1, 15), 0.0006430923401078346), ((1, 16), 0.0011917063814285646), ((1, 17), 0.0004532311864032096), ((1, 18), 0.0013181647591913096), ((1, 19), 0.0015666737499583391), ((1, 20), 0.002097630745809975), ((1, 21), 0.0018845073047312555), ((1, 22), 0.0009973100536342623), ((1, 23), 0.0020645918185844964), ((1, 24), 0.000585363420743096), ((1, 25), 0.002168711197474916), ((1, 26), 0.0021919610692613437), ((1, 27), 0.0022931859272057333), ((1, 28), 0.0025342199164067377), ((1, 29), 0.002074100848197442), ((1, 30), 0.0008531820933624157), ((1, 31), 0.0007754621632149791), ((1, 32), 0.0010275448235160403), ((1, 33), 0.0004992154818941737), ((1, 34), 0.0020478993097635886), ((1, 35), 0.0011803905568243055), ((1, 36), 0.0016553712575465257), ((1, 37), 0.00034117155319559125), ((1, 38), 0.00042635424732340085), ((1, 39), 0.00041102073745275696)])]\n",
            "aa (0, [((0, 0), 0.2537361864238587), ((0, 1), 0.22112861349117416), ((0, 2), 0.3558377106705493), ((0, 3), 0.17859496664487537), ((0, 4), 0.3485999444921442), ((0, 5), 0.20735754551562469), ((0, 6), 0.006672062688435702), ((0, 7), 0.21549615982385278), ((0, 8), 0.2981969500298829), ((0, 9), 0.046123607196346325), ((0, 10), 0.05169192255717443), ((0, 11), 0.1658368552316355), ((0, 12), 0.003934071715749017), ((0, 13), 0.10184886846039887), ((0, 14), 0.09270864527503789), ((0, 15), 0.03923937641781827), ((0, 16), 0.35808446043565156), ((0, 17), 0.19269698043918299), ((0, 18), 0.24915127982239696), ((0, 19), 0.06447635875373758), ((0, 20), 0.09979194932179429), ((0, 21), 0.15604023429641573), ((0, 22), 0.09524997045531196), ((0, 23), 0.007177136412836752), ((0, 24), 0.11384423002948471), ((0, 25), 0.13687301338112712), ((0, 26), 0.14008325781965403), ((0, 27), 0.3654564692339463), ((0, 28), 0.23597894611038717), ((0, 29), 0.2499986280560371), ((0, 30), 0.16108168653308996), ((0, 31), 0.3465774939902046), ((0, 32), 0.03208037164824631), ((0, 33), 0.278393165358442), ((0, 34), 0.2046396116876233), ((0, 35), 0.14528843384404458), ((0, 36), 0.12088224254499745), ((0, 37), 0.08939927366375422), ((0, 38), 0.34167196697492475), ((0, 39), 0.0685742760208816), ((1, 0), 0.10269784569488127), ((1, 1), 0.08950017160384141), ((1, 2), 0.14402268284200748), ((1, 3), 0.0722849924753707), ((1, 4), 0.14109325048692425), ((1, 5), 0.08392643364419451), ((1, 6), 0.0027004680495155216), ((1, 7), 0.08722047762024905), ((1, 8), 0.12069301108552312), ((1, 9), 0.018668189041152437), ((1, 10), 0.02092192351933797), ((1, 11), 0.06712124119597566), ((1, 12), 0.001592286444085216), ((1, 13), 0.04122257658539786), ((1, 14), 0.037523138820778276), ((1, 15), 0.015881847525637535), ((1, 16), 0.14493203820019845), ((1, 17), 0.07799267830862287), ((1, 18), 0.10084213864214028), ((1, 19), 0.026096329560175522), ((1, 20), 0.04039005376994737), ((1, 21), 0.06315613129456099), ((1, 22), 0.038551721400593396), ((1, 23), 0.00290489290567865), ((1, 24), 0.0460776105040461), ((1, 25), 0.055398340323943175), ((1, 26), 0.05669766302850987), ((1, 27), 0.14791580426328527), ((1, 28), 0.09551073394948166), ((1, 29), 0.10118509657563282), ((1, 30), 0.06519662181811291), ((1, 31), 0.14027467859735243), ((1, 32), 0.012984293268531033), ((1, 33), 0.1126775756404389), ((1, 34), 0.08282637001980192), ((1, 35), 0.058804419544801916), ((1, 36), 0.04892619404076472), ((1, 37), 0.03618369512584193), ((1, 38), 0.13828920280232443), ((1, 39), 0.02775493127994967), ((0, 0), 0.6002133520572139), ((0, 1), 0.3843317938295099), ((0, 2), 0.364074929453161), ((0, 3), 0.01533120531644024), ((0, 4), 0.401917599394888), ((0, 5), 0.12455534849040394), ((0, 6), 0.28397284064467077), ((0, 7), 0.3579265445022843), ((0, 8), 0.39304728145399537), ((0, 9), 0.16693300280757048), ((0, 10), 0.37060024157535604), ((0, 11), 0.6377816944008504), ((0, 12), 0.126558125448719), ((0, 13), 0.5858615526811625), ((0, 14), 0.07955659664295446), ((0, 15), 0.4916483779625771), ((0, 16), 0.43121994619389253), ((0, 17), 0.4565420361215981), ((0, 18), 0.386967857133171), ((0, 19), 0.36672035296798355), ((0, 20), 0.13189321016776892), ((0, 21), 0.17289225013036477), ((0, 22), 0.3271275732584177), ((0, 23), 0.09519522724045353), ((0, 24), 0.45885016885572366), ((0, 25), 0.5841040893262522), ((0, 26), 0.5067336589491476), ((0, 27), 0.1203407212089691), ((0, 28), 0.29822918533686693), ((0, 29), 0.15426213359334945), ((0, 30), 0.09801403596742024), ((0, 31), 0.5353985833485778), ((0, 32), 0.2828989386233493), ((0, 33), 0.21591608859871406), ((0, 34), 0.6549524079258296), ((0, 35), 0.6319810494732842), ((0, 36), 0.5199068764499372), ((0, 37), 0.16634026985821918), ((0, 38), 0.2903756088317556), ((0, 39), 0.4572873946299693), ((1, 0), 0.035185935248995916), ((1, 1), 0.022530444491888818), ((1, 2), 0.02134293888933774), ((1, 3), 0.0008987517450326681), ((1, 4), 0.023561366269626686), ((1, 5), 0.007301730979289699), ((1, 6), 0.016647163794590778), ((1, 7), 0.020982505929914297), ((1, 8), 0.023041367119930156), ((1, 9), 0.00978600993725933), ((1, 10), 0.021725468216657932), ((1, 11), 0.03738828089256517), ((1, 12), 0.007419138531340853), ((1, 13), 0.034344598611246155), ((1, 14), 0.004663797045692257), ((1, 15), 0.02882159807503934), ((1, 16), 0.02527913958069944), ((1, 17), 0.026763580760676003), ((1, 18), 0.02268497679677169), ((1, 19), 0.02149801991207688), ((1, 20), 0.00773189389546095), ((1, 21), 0.010135355198763284), ((1, 22), 0.019176996931808774), ((1, 23), 0.005580570792395107), ((1, 24), 0.02689888899507411), ((1, 25), 0.0342415719264908), ((1, 26), 0.02970593315053726), ((1, 27), 0.007054659496932736), ((1, 28), 0.01748290465158385), ((1, 29), 0.00904321342633203), ((1, 30), 0.00574581606893954), ((1, 31), 0.03138633924343533), ((1, 32), 0.01658420910213605), ((1, 33), 0.01265751500964049), ((1, 34), 0.03839486898694562), ((1, 35), 0.037048233280954704), ((1, 36), 0.030478178513648643), ((1, 37), 0.009751262521020855), ((1, 38), 0.01702250930477134), ((1, 39), 0.026807275450444146)])\n",
            "aa (1, [((0, 0), 0.3849838755760411), ((0, 1), 0.5317223822174427), ((0, 2), 0.6416564995341869), ((0, 3), 0.2669142335109168), ((0, 4), 0.5771433936678994), ((0, 5), 0.5976570014155044), ((0, 6), 0.1768086482005214), ((0, 7), 0.3023506372093883), ((0, 8), 0.14811827085433393), ((0, 9), 0.17900324380039542), ((0, 10), 0.2747180139147318), ((0, 11), 0.5035541282199246), ((0, 12), 0.6397160229999239), ((0, 13), 0.1989033248020061), ((0, 14), 0.6381457914607139), ((0, 15), 0.1649769527552988), ((0, 16), 0.3057167301264411), ((0, 17), 0.11627054990879279), ((0, 18), 0.3381579776931247), ((0, 19), 0.4019097182630164), ((0, 20), 0.5381198108992039), ((0, 21), 0.48344577160961305), ((0, 22), 0.2558468875141866), ((0, 23), 0.5296441050074969), ((0, 24), 0.1501673513828832), ((0, 25), 0.5563545737548552), ((0, 26), 0.5623190251408461), ((0, 27), 0.5882869422893431), ((0, 28), 0.6501210686951521), ((0, 29), 0.5320835225395744), ((0, 30), 0.21887273899844015), ((0, 31), 0.19893470452903755), ((0, 32), 0.26360322341070347), ((0, 33), 0.12806722119775013), ((0, 34), 0.5253618595703137), ((0, 35), 0.30281380290325105), ((0, 36), 0.424663907057172), ((0, 37), 0.0875231124717843), ((0, 38), 0.10937562171227105), ((0, 39), 0.10544200973194806), ((1, 0), 0.0015006955657327584), ((1, 1), 0.002072693096563119), ((1, 2), 0.0025012244009797813), ((1, 3), 0.001040451385298795), ((1, 4), 0.002249747552084942), ((1, 5), 0.002329711109358476), ((1, 6), 0.0006892131623453336), ((1, 7), 0.0011785851027596665), ((1, 8), 0.0005773759535837971), ((1, 9), 0.000697767857994287), ((1, 10), 0.0010708710973722794), ((1, 11), 0.0019628911631567937), ((1, 12), 0.0024936602802071396), ((1, 13), 0.0007753398427226218), ((1, 14), 0.0024875394017559566), ((1, 15), 0.0006430923401078346), ((1, 16), 0.0011917063814285646), ((1, 17), 0.0004532311864032096), ((1, 18), 0.0013181647591913096), ((1, 19), 0.0015666737499583391), ((1, 20), 0.002097630745809975), ((1, 21), 0.0018845073047312555), ((1, 22), 0.0009973100536342623), ((1, 23), 0.0020645918185844964), ((1, 24), 0.000585363420743096), ((1, 25), 0.002168711197474916), ((1, 26), 0.0021919610692613437), ((1, 27), 0.0022931859272057333), ((1, 28), 0.0025342199164067377), ((1, 29), 0.002074100848197442), ((1, 30), 0.0008531820933624157), ((1, 31), 0.0007754621632149791), ((1, 32), 0.0010275448235160403), ((1, 33), 0.0004992154818941737), ((1, 34), 0.0020478993097635886), ((1, 35), 0.0011803905568243055), ((1, 36), 0.0016553712575465257), ((1, 37), 0.00034117155319559125), ((1, 38), 0.00042635424732340085), ((1, 39), 0.00041102073745275696)])\n",
            "240 key-value pairs were sent over a network.\n",
            "[(0, [((0, 1), 1.1371827895381268), ((0, 2), 1.3615691396578973), ((0, 4), 1.3276609375549315), ((0, 5), 0.929569895421533), ((0, 8), 0.8393625023382122), ((0, 9), 0.3920598538043122), ((0, 11), 1.3071726778524106), ((0, 12), 0.7702082201643919), ((0, 15), 0.6958647071356941), ((0, 16), 1.0950211367559852), ((0, 18), 0.9742771146486927), ((0, 19), 0.8331064299847375), ((0, 22), 0.6782244312279162), ((0, 23), 0.6320164686607872), ((0, 25), 1.2773316764622344), ((0, 26), 1.2091359419096477), ((0, 29), 0.9363442841889609), ((0, 32), 0.5785825336822991), ((0, 33), 0.6223764751549062), ((0, 36), 1.0654530260521067), ((0, 39), 0.6313036803827989), ((1, 0), 0.13938447650960994), ((1, 1), 0.11410330919229335), ((1, 3), 0.07422419560570215), ((1, 4), 0.16690436430863587), ((1, 7), 0.10938156865292302), ((1, 10), 0.04371826283336818), ((1, 11), 0.10647241325169762), ((1, 14), 0.044674475268226495), ((1, 17), 0.10520949025570209), ((1, 18), 0.12484528019810327), ((1, 21), 0.07517599379805553), ((1, 24), 0.07356186291986332), ((1, 25), 0.09180862344790888), ((1, 27), 0.15726364968742373), ((1, 28), 0.11552785851747224), ((1, 31), 0.17243648000400272), ((1, 32), 0.030596047194183126), ((1, 34), 0.12326913831651112), ((1, 35), 0.09703304338258092), ((1, 38), 0.15573806635441917), ((1, 39), 0.054973227467846573)]), (1, [((0, 0), 1.2389334140571138), ((0, 3), 0.46084040547223243), ((0, 6), 0.46745355153362783), ((0, 7), 0.8757733415355253), ((0, 10), 0.6970101780472622), ((0, 13), 0.8866137459435675), ((0, 14), 0.8104110333787062), ((0, 17), 0.7655095664695739), ((0, 20), 0.769804970388767), ((0, 21), 0.8123782560363935), ((0, 24), 0.7228617502680915), ((0, 27), 1.0740841327322586), ((0, 28), 1.1843292001424062), ((0, 30), 0.47796846149895034), ((0, 31), 1.0809107818678199), ((0, 34), 1.3849538791837666), ((0, 35), 1.0800832862205798), ((0, 37), 0.34326265599375766), ((0, 38), 0.7414231975189514), ((1, 2), 0.167866846132325), ((1, 5), 0.09355787573284269), ((1, 6), 0.020036845006451632), ((1, 8), 0.14431175415903705), ((1, 9), 0.029151966836406057), ((1, 12), 0.011505085255633207), ((1, 13), 0.07634251503936665), ((1, 15), 0.04534653794078471), ((1, 16), 0.17140288416232646), ((1, 19), 0.049161023222210734), ((1, 20), 0.050219578411218296), ((1, 22), 0.05872602838603644), ((1, 23), 0.010550055516658254), ((1, 26), 0.08859555724830848), ((1, 29), 0.1123024108501623), ((1, 30), 0.07179561998041485), ((1, 33), 0.12583430613197355), ((1, 36), 0.08105974381195989), ((1, 37), 0.04627612920005837)])]\n",
            "[((0, 1), 1.1371827895381268), ((0, 2), 1.3615691396578973), ((0, 4), 1.3276609375549315), ((0, 5), 0.929569895421533), ((0, 8), 0.8393625023382122), ((0, 9), 0.3920598538043122), ((0, 11), 1.3071726778524106), ((0, 12), 0.7702082201643919), ((0, 15), 0.6958647071356941), ((0, 16), 1.0950211367559852), ((0, 18), 0.9742771146486927), ((0, 19), 0.8331064299847375), ((0, 22), 0.6782244312279162), ((0, 23), 0.6320164686607872), ((0, 25), 1.2773316764622344), ((0, 26), 1.2091359419096477), ((0, 29), 0.9363442841889609), ((0, 32), 0.5785825336822991), ((0, 33), 0.6223764751549062), ((0, 36), 1.0654530260521067), ((0, 39), 0.6313036803827989), ((1, 0), 0.13938447650960994), ((1, 1), 0.11410330919229335), ((1, 3), 0.07422419560570215), ((1, 4), 0.16690436430863587), ((1, 7), 0.10938156865292302), ((1, 10), 0.04371826283336818), ((1, 11), 0.10647241325169762), ((1, 14), 0.044674475268226495), ((1, 17), 0.10520949025570209), ((1, 18), 0.12484528019810327), ((1, 21), 0.07517599379805553), ((1, 24), 0.07356186291986332), ((1, 25), 0.09180862344790888), ((1, 27), 0.15726364968742373), ((1, 28), 0.11552785851747224), ((1, 31), 0.17243648000400272), ((1, 32), 0.030596047194183126), ((1, 34), 0.12326913831651112), ((1, 35), 0.09703304338258092), ((1, 38), 0.15573806635441917), ((1, 39), 0.054973227467846573), ((0, 0), 1.2389334140571138), ((0, 3), 0.46084040547223243), ((0, 6), 0.46745355153362783), ((0, 7), 0.8757733415355253), ((0, 10), 0.6970101780472622), ((0, 13), 0.8866137459435675), ((0, 14), 0.8104110333787062), ((0, 17), 0.7655095664695739), ((0, 20), 0.769804970388767), ((0, 21), 0.8123782560363935), ((0, 24), 0.7228617502680915), ((0, 27), 1.0740841327322586), ((0, 28), 1.1843292001424062), ((0, 30), 0.47796846149895034), ((0, 31), 1.0809107818678199), ((0, 34), 1.3849538791837666), ((0, 35), 1.0800832862205798), ((0, 37), 0.34326265599375766), ((0, 38), 0.7414231975189514), ((1, 2), 0.167866846132325), ((1, 5), 0.09355787573284269), ((1, 6), 0.020036845006451632), ((1, 8), 0.14431175415903705), ((1, 9), 0.029151966836406057), ((1, 12), 0.011505085255633207), ((1, 13), 0.07634251503936665), ((1, 15), 0.04534653794078471), ((1, 16), 0.17140288416232646), ((1, 19), 0.049161023222210734), ((1, 20), 0.050219578411218296), ((1, 22), 0.05872602838603644), ((1, 23), 0.010550055516658254), ((1, 26), 0.08859555724830848), ((1, 29), 0.1123024108501623), ((1, 30), 0.07179561998041485), ((1, 33), 0.12583430613197355), ((1, 36), 0.08105974381195989), ((1, 37), 0.04627612920005837)]\n"
          ]
        },
        {
          "output_type": "execute_result",
          "data": {
            "text/plain": [
              "True"
            ]
          },
          "metadata": {},
          "execution_count": 52
        }
      ]
    },
    {
      "cell_type": "markdown",
      "metadata": {
        "id": "ZuSA2P9Db6UM"
      },
      "source": [
        "Обобщите предыдущее решение на случай, когда каждая матрица генерируется несколькими RECORDREADER-ами, и проверьте его работоспособность. Будет ли работать решение, если RECORDREADER-ы будут генерировать случайное подмножество элементов матрицы?"
      ]
    },
    {
      "cell_type": "code",
      "metadata": {
        "id": "ehN0FqRDcwU5",
        "colab": {
          "base_uri": "https://localhost:8080/"
        },
        "outputId": "c4bddc80-71ba-4533-8b07-d0a12385e241"
      },
      "source": [
        "# Определение размеров матриц\n",
        "I = 2  # Количество строк первой матрицы и строк в итоговой матрице\n",
        "J = 3  # Количество столбцов первой матрицы и строк второй матрицы\n",
        "K = 4*10  # Количество столбцов второй матрицы и столбцов в итоговой матрице\n",
        "\n",
        "# Генерация случайных матриц\n",
        "small_mat = np.random.rand(I, J)  # Генерация первой матрицы\n",
        "big_mat = np.random.rand(J, K)  # Генерация второй матрицы\n",
        "\n",
        "# Получение эталонного решения через умножение матриц\n",
        "reference_solution = np.matmul(small_mat, big_mat)\n",
        "\n",
        "# Функция для \"разглаживания\" вложенных итерируемых объектов\n",
        "def flatten(nested_iterable):\n",
        "  for iterable in nested_iterable:\n",
        "    for element in iterable:\n",
        "      yield element\n",
        "\n",
        "# Функция для группировки элементов по ключу\n",
        "def groupbykey(iterable):\n",
        "  t = {}\n",
        "  for (k2, v2) in iterable:\n",
        "    t[k2] = t.get(k2, []) + [v2]\n",
        "  return t.items()\n",
        "\n",
        "# Функция для распределенной группировки элементов по ключу\n",
        "def groupbykey_distributed(map_partitions, PARTITIONER):\n",
        "  global reducers\n",
        "  partitions = [dict() for _ in range(reducers)]\n",
        "  for map_partition in map_partitions:\n",
        "    for (k2, v2) in map_partition:\n",
        "      p = partitions[PARTITIONER(k2)]\n",
        "      p[k2] = p.get(k2, []) + [v2]\n",
        "  return [(partition_id, sorted(partition.items(), key=lambda x: x[0])) for (partition_id, partition) in enumerate(partitions)]\n",
        "\n",
        "# Функция для определения разделителя (по ключу)\n",
        "def PARTITIONER(obj):\n",
        "  global reducers\n",
        "  return hash(obj) % reducers\n",
        "\n",
        "# Функция для выполнения MapReduce на распределенных данных\n",
        "def MapReduceDistributed(INPUTFORMAT, MAP, REDUCE, PARTITIONER=PARTITIONER, COMBINER=None):\n",
        "  map_partitions = map(lambda record_reader: flatten(map(lambda k1v1: MAP(*k1v1), record_reader)), INPUTFORMAT())\n",
        "\n",
        "  if COMBINER != None:\n",
        "    map_partitions = map(lambda map_partition: flatten(map(lambda k2v2: COMBINER(*k2v2), groupbykey(map_partition))), map_partitions)\n",
        "\n",
        "  reduce_partitions = groupbykey_distributed(map_partitions, PARTITIONER)  # shuffle\n",
        "\n",
        "  reduce_outputs = map(lambda reduce_partition: (reduce_partition[0], flatten(map(lambda reduce_input_group: REDUCE(*reduce_input_group), reduce_partition[1]))), reduce_partitions)\n",
        "\n",
        "  print(\"{} key-value pairs were sent over a network.\".format(sum([len(vs) for (k,vs) in flatten([partition for (partition_id, partition) in reduce_partitions])])))\n",
        "  return reduce_outputs\n",
        "\n",
        "# Функция для преобразования результата REDUCE в матрицу\n",
        "def asmatrix(reduce_output):\n",
        "  reduce_output = list(reduce_output)\n",
        "  I = max(i for ((i,k), vw) in reduce_output) + 1\n",
        "  K = max(k for ((i,k), vw) in reduce_output) + 1\n",
        "  mat = np.empty(shape=(I,K))\n",
        "  for ((i,k), vw) in reduce_output:\n",
        "    mat[i,k] = vw\n",
        "  return mat\n",
        "\n",
        "# Генератор для вводных данных\n",
        "def INPUTFORMAT():\n",
        "  first_mat = []\n",
        "\n",
        "  for i in range(small_mat.shape[0]):\n",
        "    for j in range(small_mat.shape[1]):\n",
        "      first_mat.append(((0, i, j), small_mat[i,j]))  # первая матрица\n",
        "\n",
        "  global maps\n",
        "  split_size = int(np.ceil(len(first_mat)/maps))\n",
        "\n",
        "  for i in range(0, len(first_mat), split_size):\n",
        "    yield first_mat[i:i+split_size]\n",
        "\n",
        "  second_mat = []\n",
        "\n",
        "  for j in range(big_mat.shape[0]):\n",
        "    for k in range(big_mat.shape[1]):\n",
        "      second_mat.append(((1, j, k), big_mat[j,k]))  # вторая матрица\n",
        "\n",
        "  split_size = int(np.ceil(len(second_mat)/maps))\n",
        "\n",
        "  for i in range(0, len(second_mat), split_size):\n",
        "    yield second_mat[i:i+split_size]\n",
        "\n",
        "# MAP функция для соединения матриц\n",
        "def MAP_JOIN(k1, v1):\n",
        "  (mat_num, i, j) = k1\n",
        "  w = v1\n",
        "\n",
        "  if mat_num == 0:\n",
        "    yield (j, (mat_num, i, w))\n",
        "\n",
        "  else:\n",
        "    yield (i, (mat_num, j, w))\n",
        "\n",
        "# REDUCE функция для соединения матриц\n",
        "def REDUCE_JOIN(key, values):\n",
        "  from_first_mat = [v for v in values if v[0] == 0]\n",
        "  from_second_mat = [v for v in values if v[0] == 1]\n",
        "\n",
        "  for f in from_first_mat:\n",
        "    for s in from_second_mat:\n",
        "      yield ((f[1], s[1]), f[2] * s[2])\n",
        "\n",
        "# Генератор для получения соединенных данных\n",
        "def GET_JOINED():\n",
        "\n",
        "  for j in joined:\n",
        "    print(\"aa\", j)\n",
        "    yield j[1]\n",
        "\n",
        "# MAP функция для умножения значений\n",
        "def MAP_MUL(k1, v1):\n",
        "  yield (k1, v1)\n",
        "\n",
        "# REDUCE функция для умножения значений\n",
        "def REDUCE_MUL(key, values):\n",
        "  res_val = 0\n",
        "\n",
        "  for v in values:\n",
        "    res_val += v\n",
        "  yield (key, res_val)\n",
        "\n",
        "maps = 3\n",
        "reducers = 2\n",
        "\n",
        "# Выполнение MapReduce для соединения матриц\n",
        "partitioned_output = MapReduceDistributed(INPUTFORMAT, MAP_JOIN, REDUCE_JOIN, COMBINER=None)\n",
        "joined = [(partition_id, list(partition)) for (partition_id, partition) in partitioned_output]\n",
        "print(joined)\n",
        "\n",
        "# Выполнение MapReduce для умножения значений\n",
        "mul_output = MapReduceDistributed(GET_JOINED, MAP_MUL, REDUCE_MUL, COMBINER=None)\n",
        "pre_result = [(partition_id, list(partition)) for (partition_id, partition) in mul_output]\n",
        "print(pre_result)\n",
        "\n",
        "solution = []\n",
        "\n",
        "for p in pre_result:\n",
        "\n",
        "  for v in p[1]:\n",
        "    solution.append(v)\n",
        "\n",
        "print(solution)\n",
        "\n",
        "np.allclose(reference_solution, asmatrix(solution))"
      ],
      "execution_count": 57,
      "outputs": [
        {
          "output_type": "stream",
          "name": "stdout",
          "text": [
            "126 key-value pairs were sent over a network.\n",
            "[(0, [((0, 0), 0.03389989464459296), ((0, 1), 0.004199108980542996), ((0, 2), 0.06093059247082387), ((0, 3), 0.06638556467248702), ((0, 4), 0.10059834532561183), ((0, 5), 0.11183795780274888), ((0, 6), 0.06146085202440543), ((0, 7), 0.018193971786627624), ((0, 8), 0.08576939050226123), ((0, 9), 0.0816578390165226), ((0, 10), 0.0645913514082816), ((0, 11), 0.07164535998259489), ((0, 12), 0.05930517824400405), ((0, 13), 0.034867405715154925), ((0, 14), 0.04762068558743972), ((0, 15), 0.02682770798005675), ((0, 16), 0.0465977376086562), ((0, 17), 0.10204702214999932), ((0, 18), 0.09345157092942771), ((0, 19), 0.0414170704752795), ((0, 20), 0.01795162051019693), ((0, 21), 0.06928019449234497), ((0, 22), 0.07597215065519233), ((0, 23), 0.09190114819347231), ((0, 24), 0.045430086898166314), ((0, 25), 0.056063503943761264), ((0, 26), 0.10925158925896518), ((0, 27), 0.08164969917607867), ((0, 28), 0.07992519914177697), ((0, 29), 0.08243540186235923), ((0, 30), 0.10415561475339101), ((0, 31), 0.03672536633395703), ((0, 32), 0.08684232177981008), ((0, 33), 0.09062142541013408), ((0, 34), 0.012706960992502165), ((0, 35), 0.10051668999992787), ((0, 36), 0.08669630730847014), ((0, 37), 0.10137254836862143), ((0, 38), 0.08475623485328618), ((0, 39), 0.10441350375486508), ((1, 0), 0.09394774993820339), ((1, 1), 0.01163711110619159), ((1, 2), 0.16885869779387547), ((1, 3), 0.18397621865034341), ((1, 4), 0.2787910785544299), ((1, 5), 0.30993973885189796), ((1, 6), 0.1703282212972522), ((1, 7), 0.050421475633271644), ((1, 8), 0.2376951709064908), ((1, 9), 0.22630071039592303), ((1, 10), 0.17900386399117446), ((1, 11), 0.19855284019152467), ((1, 12), 0.16435414074647994), ((1, 13), 0.09662904110658455), ((1, 14), 0.13197257125305475), ((1, 15), 0.07434839627525273), ((1, 16), 0.12913764619154358), ((1, 17), 0.2828058381714051), ((1, 18), 0.25898501777233385), ((1, 19), 0.11478031483514142), ((1, 20), 0.049749840592690574), ((1, 21), 0.19199818925912396), ((1, 22), 0.21054379923153962), ((1, 23), 0.2546882867935762), ((1, 24), 0.12590170230102868), ((1, 25), 0.1553703958194471), ((1, 26), 0.3027720615553497), ((1, 27), 0.22627815222273162), ((1, 28), 0.22149899583627247), ((1, 29), 0.22845559260330917), ((1, 30), 0.2886494413065135), ((1, 31), 0.10177806063718332), ((1, 32), 0.24066861611689097), ((1, 33), 0.2511417543544715), ((1, 34), 0.035215165306966764), ((1, 35), 0.2785647848093045), ((1, 36), 0.24026396202623318), ((1, 37), 0.28093664964391596), ((1, 38), 0.23488738360932382), ((1, 39), 0.2893641364899737), ((0, 0), 0.03890313665275062), ((0, 1), 0.7403917965204713), ((0, 2), 0.445621229451415), ((0, 3), 0.6270570241273311), ((0, 4), 0.2841451470266539), ((0, 5), 0.38493263957305807), ((0, 6), 0.6570177736014083), ((0, 7), 0.5938455915197489), ((0, 8), 0.6596703954865881), ((0, 9), 0.04442565357041484), ((0, 10), 0.6288289569672149), ((0, 11), 0.272475612164959), ((0, 12), 0.5138655882911433), ((0, 13), 0.7144291240506382), ((0, 14), 0.5306965356147625), ((0, 15), 0.8823928293465844), ((0, 16), 0.8949836475938446), ((0, 17), 0.2259737314887577), ((0, 18), 0.23447547311876552), ((0, 19), 0.3253358472948371), ((0, 20), 0.4629707737964793), ((0, 21), 0.883870407893676), ((0, 22), 0.8953844760917986), ((0, 23), 0.6983008770374335), ((0, 24), 0.9161925225421279), ((0, 25), 0.10503149837931523), ((0, 26), 0.744787014049331), ((0, 27), 0.012016781272054234), ((0, 28), 0.8588448211246275), ((0, 29), 0.701425078951531), ((0, 30), 0.9156772215948049), ((0, 31), 0.2164473809122432), ((0, 32), 0.8189492166336803), ((0, 33), 0.07925459418962984), ((0, 34), 0.25952095202168757), ((0, 35), 0.035740490057069266), ((0, 36), 0.21954868822622403), ((0, 37), 0.7750006449157264), ((0, 38), 0.8693265998325423), ((0, 39), 0.8562143407535926), ((1, 0), 0.02221047220532702), ((1, 1), 0.4227024562171742), ((1, 2), 0.25441285156975935), ((1, 3), 0.3579976784352798), ((1, 4), 0.1622233689444124), ((1, 5), 0.21976468808861666), ((1, 6), 0.37510278744961184), ((1, 7), 0.3390366983113894), ((1, 8), 0.3766172150696239), ((1, 9), 0.025363372435405436), ((1, 10), 0.3590093054781383), ((1, 11), 0.15556103006905997), ((1, 12), 0.2933747339678199), ((1, 13), 0.40787991837364884), ((1, 14), 0.3029838123066005), ((1, 15), 0.5037732968762171), ((1, 16), 0.5109616123382642), ((1, 17), 0.12901230374209993), ((1, 18), 0.1338660947835688), ((1, 19), 0.1857398507024393), ((1, 20), 0.26431800589936255), ((1, 21), 0.5046168719725981), ((1, 22), 0.511190452246274), ((1, 23), 0.398672023771091), ((1, 24), 0.523070125123487), ((1, 25), 0.0599642953281684), ((1, 26), 0.4252117617683554), ((1, 27), 0.0068605878446971955), ((1, 28), 0.4903293325302829), ((1, 29), 0.40045568456935177), ((1, 30), 0.5227759309182728), ((1, 31), 0.12357354576773706), ((1, 32), 0.4675522433055699), ((1, 33), 0.04524781580224551), ((1, 34), 0.14816499098846192), ((1, 35), 0.020404862674772976), ((1, 36), 0.12534413564361738), ((1, 37), 0.4424612451344387), ((1, 38), 0.49631356091609535), ((1, 39), 0.4888275458828713)]), (1, [((0, 0), 0.15176947573326396), ((0, 1), 0.1663603595490666), ((0, 2), 0.18514188951100297), ((0, 3), 0.06492058352000278), ((0, 4), 0.1757285082754384), ((0, 5), 0.05570167044905194), ((0, 6), 0.20987868091447956), ((0, 7), 0.3348532726889993), ((0, 8), 0.06425571891242979), ((0, 9), 0.08935129102721573), ((0, 10), 0.1736951912813534), ((0, 11), 0.24917164215288928), ((0, 12), 0.35674702187918717), ((0, 13), 0.41543483089472794), ((0, 14), 0.11997801958207255), ((0, 15), 0.07426509085896686), ((0, 16), 0.1158743804802991), ((0, 17), 0.3005302896414539), ((0, 18), 0.2423351744093701), ((0, 19), 0.29098913919235836), ((0, 20), 0.2323808374271773), ((0, 21), 0.3579914322606243), ((0, 22), 0.06979673281760446), ((0, 23), 0.4376044057212235), ((0, 24), 0.061977015248293334), ((0, 25), 0.016432303201663983), ((0, 26), 0.14681431433094486), ((0, 27), 0.3076773144283048), ((0, 28), 0.41577473831099454), ((0, 29), 0.18357753688056844), ((0, 30), 0.1472437523879695), ((0, 31), 0.22381201333793277), ((0, 32), 0.41079207849242344), ((0, 33), 0.3176008335104466), ((0, 34), 0.2494751901815493), ((0, 35), 0.22298853706412183), ((0, 36), 0.04338507503129136), ((0, 37), 0.09149630240277609), ((0, 38), 0.14396012424902674), ((0, 39), 0.2151818834437109), ((1, 0), 0.13921030006089857), ((1, 1), 0.1525937640567909), ((1, 2), 0.16982109128429657), ((1, 3), 0.05954829762891116), ((1, 4), 0.16118668294850125), ((1, 5), 0.05109226489478), ((1, 6), 0.192510872198306), ((1, 7), 0.3071436093601308), ((1, 8), 0.05893845166961711), ((1, 9), 0.08195732359640186), ((1, 10), 0.15932162630586666), ((1, 11), 0.2285522757667931), ((1, 12), 0.3272256145162974), ((1, 13), 0.38105691006171316), ((1, 14), 0.11004963960003979), ((1, 15), 0.06811953149720702), ((1, 16), 0.10628558343565317), ((1, 17), 0.275660910049556), ((1, 18), 0.22228153706038423), ((1, 19), 0.26690930561442483), ((1, 20), 0.21315093796261952), ((1, 21), 0.3283670478760807), ((1, 22), 0.06402093748999814), ((1, 23), 0.40139191582560646), ((1, 24), 0.05684831451060222), ((1, 25), 0.015072502875450968), ((1, 26), 0.1346651864777208), ((1, 27), 0.28221650668921766), ((1, 28), 0.3813686895758927), ((1, 29), 0.16838619142691952), ((1, 30), 0.13505908782374004), ((1, 31), 0.20529119826944656), ((1, 32), 0.376798353115986), ((1, 33), 0.29131883811924075), ((1, 34), 0.22883070469295555), ((1, 35), 0.204535866022192), ((1, 36), 0.0397948881623957), ((1, 37), 0.08392483172531313), ((1, 38), 0.13204718535585505), ((1, 39), 0.1973752259282715)])]\n",
            "aa (0, [((0, 0), 0.03389989464459296), ((0, 1), 0.004199108980542996), ((0, 2), 0.06093059247082387), ((0, 3), 0.06638556467248702), ((0, 4), 0.10059834532561183), ((0, 5), 0.11183795780274888), ((0, 6), 0.06146085202440543), ((0, 7), 0.018193971786627624), ((0, 8), 0.08576939050226123), ((0, 9), 0.0816578390165226), ((0, 10), 0.0645913514082816), ((0, 11), 0.07164535998259489), ((0, 12), 0.05930517824400405), ((0, 13), 0.034867405715154925), ((0, 14), 0.04762068558743972), ((0, 15), 0.02682770798005675), ((0, 16), 0.0465977376086562), ((0, 17), 0.10204702214999932), ((0, 18), 0.09345157092942771), ((0, 19), 0.0414170704752795), ((0, 20), 0.01795162051019693), ((0, 21), 0.06928019449234497), ((0, 22), 0.07597215065519233), ((0, 23), 0.09190114819347231), ((0, 24), 0.045430086898166314), ((0, 25), 0.056063503943761264), ((0, 26), 0.10925158925896518), ((0, 27), 0.08164969917607867), ((0, 28), 0.07992519914177697), ((0, 29), 0.08243540186235923), ((0, 30), 0.10415561475339101), ((0, 31), 0.03672536633395703), ((0, 32), 0.08684232177981008), ((0, 33), 0.09062142541013408), ((0, 34), 0.012706960992502165), ((0, 35), 0.10051668999992787), ((0, 36), 0.08669630730847014), ((0, 37), 0.10137254836862143), ((0, 38), 0.08475623485328618), ((0, 39), 0.10441350375486508), ((1, 0), 0.09394774993820339), ((1, 1), 0.01163711110619159), ((1, 2), 0.16885869779387547), ((1, 3), 0.18397621865034341), ((1, 4), 0.2787910785544299), ((1, 5), 0.30993973885189796), ((1, 6), 0.1703282212972522), ((1, 7), 0.050421475633271644), ((1, 8), 0.2376951709064908), ((1, 9), 0.22630071039592303), ((1, 10), 0.17900386399117446), ((1, 11), 0.19855284019152467), ((1, 12), 0.16435414074647994), ((1, 13), 0.09662904110658455), ((1, 14), 0.13197257125305475), ((1, 15), 0.07434839627525273), ((1, 16), 0.12913764619154358), ((1, 17), 0.2828058381714051), ((1, 18), 0.25898501777233385), ((1, 19), 0.11478031483514142), ((1, 20), 0.049749840592690574), ((1, 21), 0.19199818925912396), ((1, 22), 0.21054379923153962), ((1, 23), 0.2546882867935762), ((1, 24), 0.12590170230102868), ((1, 25), 0.1553703958194471), ((1, 26), 0.3027720615553497), ((1, 27), 0.22627815222273162), ((1, 28), 0.22149899583627247), ((1, 29), 0.22845559260330917), ((1, 30), 0.2886494413065135), ((1, 31), 0.10177806063718332), ((1, 32), 0.24066861611689097), ((1, 33), 0.2511417543544715), ((1, 34), 0.035215165306966764), ((1, 35), 0.2785647848093045), ((1, 36), 0.24026396202623318), ((1, 37), 0.28093664964391596), ((1, 38), 0.23488738360932382), ((1, 39), 0.2893641364899737), ((0, 0), 0.03890313665275062), ((0, 1), 0.7403917965204713), ((0, 2), 0.445621229451415), ((0, 3), 0.6270570241273311), ((0, 4), 0.2841451470266539), ((0, 5), 0.38493263957305807), ((0, 6), 0.6570177736014083), ((0, 7), 0.5938455915197489), ((0, 8), 0.6596703954865881), ((0, 9), 0.04442565357041484), ((0, 10), 0.6288289569672149), ((0, 11), 0.272475612164959), ((0, 12), 0.5138655882911433), ((0, 13), 0.7144291240506382), ((0, 14), 0.5306965356147625), ((0, 15), 0.8823928293465844), ((0, 16), 0.8949836475938446), ((0, 17), 0.2259737314887577), ((0, 18), 0.23447547311876552), ((0, 19), 0.3253358472948371), ((0, 20), 0.4629707737964793), ((0, 21), 0.883870407893676), ((0, 22), 0.8953844760917986), ((0, 23), 0.6983008770374335), ((0, 24), 0.9161925225421279), ((0, 25), 0.10503149837931523), ((0, 26), 0.744787014049331), ((0, 27), 0.012016781272054234), ((0, 28), 0.8588448211246275), ((0, 29), 0.701425078951531), ((0, 30), 0.9156772215948049), ((0, 31), 0.2164473809122432), ((0, 32), 0.8189492166336803), ((0, 33), 0.07925459418962984), ((0, 34), 0.25952095202168757), ((0, 35), 0.035740490057069266), ((0, 36), 0.21954868822622403), ((0, 37), 0.7750006449157264), ((0, 38), 0.8693265998325423), ((0, 39), 0.8562143407535926), ((1, 0), 0.02221047220532702), ((1, 1), 0.4227024562171742), ((1, 2), 0.25441285156975935), ((1, 3), 0.3579976784352798), ((1, 4), 0.1622233689444124), ((1, 5), 0.21976468808861666), ((1, 6), 0.37510278744961184), ((1, 7), 0.3390366983113894), ((1, 8), 0.3766172150696239), ((1, 9), 0.025363372435405436), ((1, 10), 0.3590093054781383), ((1, 11), 0.15556103006905997), ((1, 12), 0.2933747339678199), ((1, 13), 0.40787991837364884), ((1, 14), 0.3029838123066005), ((1, 15), 0.5037732968762171), ((1, 16), 0.5109616123382642), ((1, 17), 0.12901230374209993), ((1, 18), 0.1338660947835688), ((1, 19), 0.1857398507024393), ((1, 20), 0.26431800589936255), ((1, 21), 0.5046168719725981), ((1, 22), 0.511190452246274), ((1, 23), 0.398672023771091), ((1, 24), 0.523070125123487), ((1, 25), 0.0599642953281684), ((1, 26), 0.4252117617683554), ((1, 27), 0.0068605878446971955), ((1, 28), 0.4903293325302829), ((1, 29), 0.40045568456935177), ((1, 30), 0.5227759309182728), ((1, 31), 0.12357354576773706), ((1, 32), 0.4675522433055699), ((1, 33), 0.04524781580224551), ((1, 34), 0.14816499098846192), ((1, 35), 0.020404862674772976), ((1, 36), 0.12534413564361738), ((1, 37), 0.4424612451344387), ((1, 38), 0.49631356091609535), ((1, 39), 0.4888275458828713)])\n",
            "aa (1, [((0, 0), 0.15176947573326396), ((0, 1), 0.1663603595490666), ((0, 2), 0.18514188951100297), ((0, 3), 0.06492058352000278), ((0, 4), 0.1757285082754384), ((0, 5), 0.05570167044905194), ((0, 6), 0.20987868091447956), ((0, 7), 0.3348532726889993), ((0, 8), 0.06425571891242979), ((0, 9), 0.08935129102721573), ((0, 10), 0.1736951912813534), ((0, 11), 0.24917164215288928), ((0, 12), 0.35674702187918717), ((0, 13), 0.41543483089472794), ((0, 14), 0.11997801958207255), ((0, 15), 0.07426509085896686), ((0, 16), 0.1158743804802991), ((0, 17), 0.3005302896414539), ((0, 18), 0.2423351744093701), ((0, 19), 0.29098913919235836), ((0, 20), 0.2323808374271773), ((0, 21), 0.3579914322606243), ((0, 22), 0.06979673281760446), ((0, 23), 0.4376044057212235), ((0, 24), 0.061977015248293334), ((0, 25), 0.016432303201663983), ((0, 26), 0.14681431433094486), ((0, 27), 0.3076773144283048), ((0, 28), 0.41577473831099454), ((0, 29), 0.18357753688056844), ((0, 30), 0.1472437523879695), ((0, 31), 0.22381201333793277), ((0, 32), 0.41079207849242344), ((0, 33), 0.3176008335104466), ((0, 34), 0.2494751901815493), ((0, 35), 0.22298853706412183), ((0, 36), 0.04338507503129136), ((0, 37), 0.09149630240277609), ((0, 38), 0.14396012424902674), ((0, 39), 0.2151818834437109), ((1, 0), 0.13921030006089857), ((1, 1), 0.1525937640567909), ((1, 2), 0.16982109128429657), ((1, 3), 0.05954829762891116), ((1, 4), 0.16118668294850125), ((1, 5), 0.05109226489478), ((1, 6), 0.192510872198306), ((1, 7), 0.3071436093601308), ((1, 8), 0.05893845166961711), ((1, 9), 0.08195732359640186), ((1, 10), 0.15932162630586666), ((1, 11), 0.2285522757667931), ((1, 12), 0.3272256145162974), ((1, 13), 0.38105691006171316), ((1, 14), 0.11004963960003979), ((1, 15), 0.06811953149720702), ((1, 16), 0.10628558343565317), ((1, 17), 0.275660910049556), ((1, 18), 0.22228153706038423), ((1, 19), 0.26690930561442483), ((1, 20), 0.21315093796261952), ((1, 21), 0.3283670478760807), ((1, 22), 0.06402093748999814), ((1, 23), 0.40139191582560646), ((1, 24), 0.05684831451060222), ((1, 25), 0.015072502875450968), ((1, 26), 0.1346651864777208), ((1, 27), 0.28221650668921766), ((1, 28), 0.3813686895758927), ((1, 29), 0.16838619142691952), ((1, 30), 0.13505908782374004), ((1, 31), 0.20529119826944656), ((1, 32), 0.376798353115986), ((1, 33), 0.29131883811924075), ((1, 34), 0.22883070469295555), ((1, 35), 0.204535866022192), ((1, 36), 0.0397948881623957), ((1, 37), 0.08392483172531313), ((1, 38), 0.13204718535585505), ((1, 39), 0.1973752259282715)])\n",
            "240 key-value pairs were sent over a network.\n",
            "[(0, [((0, 1), 0.9109512650500808), ((0, 2), 0.6916937114332419), ((0, 4), 0.5604720006277042), ((0, 5), 0.5524722678248589), ((0, 8), 0.8096955049012791), ((0, 9), 0.21543478361415316), ((0, 11), 0.5932926143004431), ((0, 12), 0.9299177884143345), ((0, 15), 0.9834856281856079), ((0, 16), 1.0574557656827999), ((0, 18), 0.5702622184575633), ((0, 19), 0.657742056962475), ((0, 22), 1.0411533595645954), ((0, 23), 1.2278064309521293), ((0, 25), 0.17752730552474047), ((0, 26), 1.0008529176392411), ((0, 29), 0.9674380176944586), ((0, 32), 1.3165836169059137), ((0, 33), 0.4874768531102105), ((0, 36), 0.34963007056598555), ((0, 39), 1.1758097279521686), ((1, 0), 0.25536852220442896), ((1, 1), 0.5869333313801567), ((1, 3), 0.6015221947145343), ((1, 4), 0.6022011304473436), ((1, 7), 0.6966017833047918), ((1, 10), 0.6973347957751794), ((1, 11), 0.5826661460273777), ((1, 14), 0.545006023159695), ((1, 17), 0.687479051963061), ((1, 18), 0.6151326496162869), ((1, 21), 1.0249821091078026), ((1, 24), 0.705820141935118), ((1, 25), 0.23040719402306648), ((1, 27), 0.5153552467566465), ((1, 28), 1.0931970179424482), ((1, 31), 0.43064280467436694), ((1, 32), 1.0850192125384468), ((1, 34), 0.4122108609883842), ((1, 35), 0.5035055135062695), ((1, 38), 0.8632481298812742), ((1, 39), 0.9755669083011165)]), (1, [((0, 0), 0.22457250703060755), ((0, 3), 0.7583631723198209), ((0, 6), 0.9283573065402934), ((0, 7), 0.9468928359953759), ((0, 10), 0.8671154996568498), ((0, 13), 1.164731360660521), ((0, 14), 0.6982952407842747), ((0, 17), 0.6285510432802109), ((0, 20), 0.7133032317338535), ((0, 21), 1.3111420346466454), ((0, 24), 1.0235996246885875), ((0, 27), 0.40134379487643773), ((0, 28), 1.3545447585773989), ((0, 30), 1.1670765887361654), ((0, 31), 0.47698476058413297), ((0, 34), 0.5217031031957391), ((0, 35), 0.35924571712111897), ((0, 37), 0.9678694956871239), ((0, 38), 1.0980429589348553), ((1, 2), 0.5930926406479313), ((1, 5), 0.5807966918352947), ((1, 6), 0.73794188094517), ((1, 8), 0.6732508376457318), ((1, 9), 0.3336214064277303), ((1, 12), 0.7849544892305972), ((1, 13), 0.8855658695419466), ((1, 15), 0.6462412246486768), ((1, 16), 0.746384841965461), ((1, 19), 0.5674294711520056), ((1, 20), 0.5272187844546726), ((1, 22), 0.7857551889678118), ((1, 23), 1.0547522263902738), ((1, 26), 0.8626490098014259), ((1, 29), 0.7972974685995804), ((1, 30), 0.9464844600485263), ((1, 33), 0.5877084082759578), ((1, 36), 0.40540298583224627), ((1, 37), 0.8073227265036678)])]\n",
            "[((0, 1), 0.9109512650500808), ((0, 2), 0.6916937114332419), ((0, 4), 0.5604720006277042), ((0, 5), 0.5524722678248589), ((0, 8), 0.8096955049012791), ((0, 9), 0.21543478361415316), ((0, 11), 0.5932926143004431), ((0, 12), 0.9299177884143345), ((0, 15), 0.9834856281856079), ((0, 16), 1.0574557656827999), ((0, 18), 0.5702622184575633), ((0, 19), 0.657742056962475), ((0, 22), 1.0411533595645954), ((0, 23), 1.2278064309521293), ((0, 25), 0.17752730552474047), ((0, 26), 1.0008529176392411), ((0, 29), 0.9674380176944586), ((0, 32), 1.3165836169059137), ((0, 33), 0.4874768531102105), ((0, 36), 0.34963007056598555), ((0, 39), 1.1758097279521686), ((1, 0), 0.25536852220442896), ((1, 1), 0.5869333313801567), ((1, 3), 0.6015221947145343), ((1, 4), 0.6022011304473436), ((1, 7), 0.6966017833047918), ((1, 10), 0.6973347957751794), ((1, 11), 0.5826661460273777), ((1, 14), 0.545006023159695), ((1, 17), 0.687479051963061), ((1, 18), 0.6151326496162869), ((1, 21), 1.0249821091078026), ((1, 24), 0.705820141935118), ((1, 25), 0.23040719402306648), ((1, 27), 0.5153552467566465), ((1, 28), 1.0931970179424482), ((1, 31), 0.43064280467436694), ((1, 32), 1.0850192125384468), ((1, 34), 0.4122108609883842), ((1, 35), 0.5035055135062695), ((1, 38), 0.8632481298812742), ((1, 39), 0.9755669083011165), ((0, 0), 0.22457250703060755), ((0, 3), 0.7583631723198209), ((0, 6), 0.9283573065402934), ((0, 7), 0.9468928359953759), ((0, 10), 0.8671154996568498), ((0, 13), 1.164731360660521), ((0, 14), 0.6982952407842747), ((0, 17), 0.6285510432802109), ((0, 20), 0.7133032317338535), ((0, 21), 1.3111420346466454), ((0, 24), 1.0235996246885875), ((0, 27), 0.40134379487643773), ((0, 28), 1.3545447585773989), ((0, 30), 1.1670765887361654), ((0, 31), 0.47698476058413297), ((0, 34), 0.5217031031957391), ((0, 35), 0.35924571712111897), ((0, 37), 0.9678694956871239), ((0, 38), 1.0980429589348553), ((1, 2), 0.5930926406479313), ((1, 5), 0.5807966918352947), ((1, 6), 0.73794188094517), ((1, 8), 0.6732508376457318), ((1, 9), 0.3336214064277303), ((1, 12), 0.7849544892305972), ((1, 13), 0.8855658695419466), ((1, 15), 0.6462412246486768), ((1, 16), 0.746384841965461), ((1, 19), 0.5674294711520056), ((1, 20), 0.5272187844546726), ((1, 22), 0.7857551889678118), ((1, 23), 1.0547522263902738), ((1, 26), 0.8626490098014259), ((1, 29), 0.7972974685995804), ((1, 30), 0.9464844600485263), ((1, 33), 0.5877084082759578), ((1, 36), 0.40540298583224627), ((1, 37), 0.8073227265036678)]\n"
          ]
        },
        {
          "output_type": "execute_result",
          "data": {
            "text/plain": [
              "True"
            ]
          },
          "metadata": {},
          "execution_count": 57
        }
      ]
    }
  ]
}